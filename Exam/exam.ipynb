{
  "nbformat": 4,
  "nbformat_minor": 0,
  "metadata": {
    "colab": {
      "provenance": []
    },
    "kernelspec": {
      "name": "python3",
      "display_name": "Python 3"
    },
    "language_info": {
      "name": "python"
    }
  },
  "cells": [
    {
      "cell_type": "markdown",
      "source": [
        "## Завдання виконав студент групи ІПС-42 Сафронюк Олексій Сергійович"
      ],
      "metadata": {
        "id": "R5BaX-luS6lq"
      }
    },
    {
      "cell_type": "code",
      "execution_count": 1,
      "metadata": {
        "id": "SdeUIwhJSugw"
      },
      "outputs": [],
      "source": [
        "import numpy as np\n",
        "import matplotlib.pyplot as plt\n",
        "import pandas as pd\n",
        "\n",
        "%matplotlib inline"
      ]
    },
    {
      "cell_type": "code",
      "source": [
        "data = pd.read_csv(\"Expanded_data_with_more_features.csv\")\n",
        "data = data.drop(\"Unnamed: 0\", axis=1)"
      ],
      "metadata": {
        "id": "cAb8IFQKTUxf"
      },
      "execution_count": 2,
      "outputs": []
    },
    {
      "cell_type": "code",
      "source": [
        "data.head()"
      ],
      "metadata": {
        "colab": {
          "base_uri": "https://localhost:8080/",
          "height": 313
        },
        "id": "T_bEXns3Tw0l",
        "outputId": "b361cc69-9012-489b-ca2a-a81fe95e3b6c"
      },
      "execution_count": 3,
      "outputs": [
        {
          "output_type": "execute_result",
          "data": {
            "text/plain": [
              "   Gender EthnicGroup          ParentEduc     LunchType TestPrep  \\\n",
              "0  female         NaN   bachelor's degree      standard     none   \n",
              "1  female     group C        some college      standard      NaN   \n",
              "2  female     group B     master's degree      standard     none   \n",
              "3    male     group A  associate's degree  free/reduced     none   \n",
              "4    male     group C        some college      standard     none   \n",
              "\n",
              "  ParentMaritalStatus PracticeSport IsFirstChild  NrSiblings TransportMeans  \\\n",
              "0             married     regularly          yes         3.0     school_bus   \n",
              "1             married     sometimes          yes         0.0            NaN   \n",
              "2              single     sometimes          yes         4.0     school_bus   \n",
              "3             married         never           no         1.0            NaN   \n",
              "4             married     sometimes          yes         0.0     school_bus   \n",
              "\n",
              "  WklyStudyHours  MathScore  ReadingScore  WritingScore  \n",
              "0            < 5         71            71            74  \n",
              "1         5 - 10         69            90            88  \n",
              "2            < 5         87            93            91  \n",
              "3         5 - 10         45            56            42  \n",
              "4         5 - 10         76            78            75  "
            ],
            "text/html": [
              "\n",
              "  <div id=\"df-e1c1376a-df21-4e39-8477-d1d8e060c73c\" class=\"colab-df-container\">\n",
              "    <div>\n",
              "<style scoped>\n",
              "    .dataframe tbody tr th:only-of-type {\n",
              "        vertical-align: middle;\n",
              "    }\n",
              "\n",
              "    .dataframe tbody tr th {\n",
              "        vertical-align: top;\n",
              "    }\n",
              "\n",
              "    .dataframe thead th {\n",
              "        text-align: right;\n",
              "    }\n",
              "</style>\n",
              "<table border=\"1\" class=\"dataframe\">\n",
              "  <thead>\n",
              "    <tr style=\"text-align: right;\">\n",
              "      <th></th>\n",
              "      <th>Gender</th>\n",
              "      <th>EthnicGroup</th>\n",
              "      <th>ParentEduc</th>\n",
              "      <th>LunchType</th>\n",
              "      <th>TestPrep</th>\n",
              "      <th>ParentMaritalStatus</th>\n",
              "      <th>PracticeSport</th>\n",
              "      <th>IsFirstChild</th>\n",
              "      <th>NrSiblings</th>\n",
              "      <th>TransportMeans</th>\n",
              "      <th>WklyStudyHours</th>\n",
              "      <th>MathScore</th>\n",
              "      <th>ReadingScore</th>\n",
              "      <th>WritingScore</th>\n",
              "    </tr>\n",
              "  </thead>\n",
              "  <tbody>\n",
              "    <tr>\n",
              "      <th>0</th>\n",
              "      <td>female</td>\n",
              "      <td>NaN</td>\n",
              "      <td>bachelor's degree</td>\n",
              "      <td>standard</td>\n",
              "      <td>none</td>\n",
              "      <td>married</td>\n",
              "      <td>regularly</td>\n",
              "      <td>yes</td>\n",
              "      <td>3.0</td>\n",
              "      <td>school_bus</td>\n",
              "      <td>&lt; 5</td>\n",
              "      <td>71</td>\n",
              "      <td>71</td>\n",
              "      <td>74</td>\n",
              "    </tr>\n",
              "    <tr>\n",
              "      <th>1</th>\n",
              "      <td>female</td>\n",
              "      <td>group C</td>\n",
              "      <td>some college</td>\n",
              "      <td>standard</td>\n",
              "      <td>NaN</td>\n",
              "      <td>married</td>\n",
              "      <td>sometimes</td>\n",
              "      <td>yes</td>\n",
              "      <td>0.0</td>\n",
              "      <td>NaN</td>\n",
              "      <td>5 - 10</td>\n",
              "      <td>69</td>\n",
              "      <td>90</td>\n",
              "      <td>88</td>\n",
              "    </tr>\n",
              "    <tr>\n",
              "      <th>2</th>\n",
              "      <td>female</td>\n",
              "      <td>group B</td>\n",
              "      <td>master's degree</td>\n",
              "      <td>standard</td>\n",
              "      <td>none</td>\n",
              "      <td>single</td>\n",
              "      <td>sometimes</td>\n",
              "      <td>yes</td>\n",
              "      <td>4.0</td>\n",
              "      <td>school_bus</td>\n",
              "      <td>&lt; 5</td>\n",
              "      <td>87</td>\n",
              "      <td>93</td>\n",
              "      <td>91</td>\n",
              "    </tr>\n",
              "    <tr>\n",
              "      <th>3</th>\n",
              "      <td>male</td>\n",
              "      <td>group A</td>\n",
              "      <td>associate's degree</td>\n",
              "      <td>free/reduced</td>\n",
              "      <td>none</td>\n",
              "      <td>married</td>\n",
              "      <td>never</td>\n",
              "      <td>no</td>\n",
              "      <td>1.0</td>\n",
              "      <td>NaN</td>\n",
              "      <td>5 - 10</td>\n",
              "      <td>45</td>\n",
              "      <td>56</td>\n",
              "      <td>42</td>\n",
              "    </tr>\n",
              "    <tr>\n",
              "      <th>4</th>\n",
              "      <td>male</td>\n",
              "      <td>group C</td>\n",
              "      <td>some college</td>\n",
              "      <td>standard</td>\n",
              "      <td>none</td>\n",
              "      <td>married</td>\n",
              "      <td>sometimes</td>\n",
              "      <td>yes</td>\n",
              "      <td>0.0</td>\n",
              "      <td>school_bus</td>\n",
              "      <td>5 - 10</td>\n",
              "      <td>76</td>\n",
              "      <td>78</td>\n",
              "      <td>75</td>\n",
              "    </tr>\n",
              "  </tbody>\n",
              "</table>\n",
              "</div>\n",
              "    <div class=\"colab-df-buttons\">\n",
              "\n",
              "  <div class=\"colab-df-container\">\n",
              "    <button class=\"colab-df-convert\" onclick=\"convertToInteractive('df-e1c1376a-df21-4e39-8477-d1d8e060c73c')\"\n",
              "            title=\"Convert this dataframe to an interactive table.\"\n",
              "            style=\"display:none;\">\n",
              "\n",
              "  <svg xmlns=\"http://www.w3.org/2000/svg\" height=\"24px\" viewBox=\"0 -960 960 960\">\n",
              "    <path d=\"M120-120v-720h720v720H120Zm60-500h600v-160H180v160Zm220 220h160v-160H400v160Zm0 220h160v-160H400v160ZM180-400h160v-160H180v160Zm440 0h160v-160H620v160ZM180-180h160v-160H180v160Zm440 0h160v-160H620v160Z\"/>\n",
              "  </svg>\n",
              "    </button>\n",
              "\n",
              "  <style>\n",
              "    .colab-df-container {\n",
              "      display:flex;\n",
              "      gap: 12px;\n",
              "    }\n",
              "\n",
              "    .colab-df-convert {\n",
              "      background-color: #E8F0FE;\n",
              "      border: none;\n",
              "      border-radius: 50%;\n",
              "      cursor: pointer;\n",
              "      display: none;\n",
              "      fill: #1967D2;\n",
              "      height: 32px;\n",
              "      padding: 0 0 0 0;\n",
              "      width: 32px;\n",
              "    }\n",
              "\n",
              "    .colab-df-convert:hover {\n",
              "      background-color: #E2EBFA;\n",
              "      box-shadow: 0px 1px 2px rgba(60, 64, 67, 0.3), 0px 1px 3px 1px rgba(60, 64, 67, 0.15);\n",
              "      fill: #174EA6;\n",
              "    }\n",
              "\n",
              "    .colab-df-buttons div {\n",
              "      margin-bottom: 4px;\n",
              "    }\n",
              "\n",
              "    [theme=dark] .colab-df-convert {\n",
              "      background-color: #3B4455;\n",
              "      fill: #D2E3FC;\n",
              "    }\n",
              "\n",
              "    [theme=dark] .colab-df-convert:hover {\n",
              "      background-color: #434B5C;\n",
              "      box-shadow: 0px 1px 3px 1px rgba(0, 0, 0, 0.15);\n",
              "      filter: drop-shadow(0px 1px 2px rgba(0, 0, 0, 0.3));\n",
              "      fill: #FFFFFF;\n",
              "    }\n",
              "  </style>\n",
              "\n",
              "    <script>\n",
              "      const buttonEl =\n",
              "        document.querySelector('#df-e1c1376a-df21-4e39-8477-d1d8e060c73c button.colab-df-convert');\n",
              "      buttonEl.style.display =\n",
              "        google.colab.kernel.accessAllowed ? 'block' : 'none';\n",
              "\n",
              "      async function convertToInteractive(key) {\n",
              "        const element = document.querySelector('#df-e1c1376a-df21-4e39-8477-d1d8e060c73c');\n",
              "        const dataTable =\n",
              "          await google.colab.kernel.invokeFunction('convertToInteractive',\n",
              "                                                    [key], {});\n",
              "        if (!dataTable) return;\n",
              "\n",
              "        const docLinkHtml = 'Like what you see? Visit the ' +\n",
              "          '<a target=\"_blank\" href=https://colab.research.google.com/notebooks/data_table.ipynb>data table notebook</a>'\n",
              "          + ' to learn more about interactive tables.';\n",
              "        element.innerHTML = '';\n",
              "        dataTable['output_type'] = 'display_data';\n",
              "        await google.colab.output.renderOutput(dataTable, element);\n",
              "        const docLink = document.createElement('div');\n",
              "        docLink.innerHTML = docLinkHtml;\n",
              "        element.appendChild(docLink);\n",
              "      }\n",
              "    </script>\n",
              "  </div>\n",
              "\n",
              "\n",
              "<div id=\"df-8f4af1e4-a83e-4905-9c63-98e0ab2ab089\">\n",
              "  <button class=\"colab-df-quickchart\" onclick=\"quickchart('df-8f4af1e4-a83e-4905-9c63-98e0ab2ab089')\"\n",
              "            title=\"Suggest charts\"\n",
              "            style=\"display:none;\">\n",
              "\n",
              "<svg xmlns=\"http://www.w3.org/2000/svg\" height=\"24px\"viewBox=\"0 0 24 24\"\n",
              "     width=\"24px\">\n",
              "    <g>\n",
              "        <path d=\"M19 3H5c-1.1 0-2 .9-2 2v14c0 1.1.9 2 2 2h14c1.1 0 2-.9 2-2V5c0-1.1-.9-2-2-2zM9 17H7v-7h2v7zm4 0h-2V7h2v10zm4 0h-2v-4h2v4z\"/>\n",
              "    </g>\n",
              "</svg>\n",
              "  </button>\n",
              "\n",
              "<style>\n",
              "  .colab-df-quickchart {\n",
              "      --bg-color: #E8F0FE;\n",
              "      --fill-color: #1967D2;\n",
              "      --hover-bg-color: #E2EBFA;\n",
              "      --hover-fill-color: #174EA6;\n",
              "      --disabled-fill-color: #AAA;\n",
              "      --disabled-bg-color: #DDD;\n",
              "  }\n",
              "\n",
              "  [theme=dark] .colab-df-quickchart {\n",
              "      --bg-color: #3B4455;\n",
              "      --fill-color: #D2E3FC;\n",
              "      --hover-bg-color: #434B5C;\n",
              "      --hover-fill-color: #FFFFFF;\n",
              "      --disabled-bg-color: #3B4455;\n",
              "      --disabled-fill-color: #666;\n",
              "  }\n",
              "\n",
              "  .colab-df-quickchart {\n",
              "    background-color: var(--bg-color);\n",
              "    border: none;\n",
              "    border-radius: 50%;\n",
              "    cursor: pointer;\n",
              "    display: none;\n",
              "    fill: var(--fill-color);\n",
              "    height: 32px;\n",
              "    padding: 0;\n",
              "    width: 32px;\n",
              "  }\n",
              "\n",
              "  .colab-df-quickchart:hover {\n",
              "    background-color: var(--hover-bg-color);\n",
              "    box-shadow: 0 1px 2px rgba(60, 64, 67, 0.3), 0 1px 3px 1px rgba(60, 64, 67, 0.15);\n",
              "    fill: var(--button-hover-fill-color);\n",
              "  }\n",
              "\n",
              "  .colab-df-quickchart-complete:disabled,\n",
              "  .colab-df-quickchart-complete:disabled:hover {\n",
              "    background-color: var(--disabled-bg-color);\n",
              "    fill: var(--disabled-fill-color);\n",
              "    box-shadow: none;\n",
              "  }\n",
              "\n",
              "  .colab-df-spinner {\n",
              "    border: 2px solid var(--fill-color);\n",
              "    border-color: transparent;\n",
              "    border-bottom-color: var(--fill-color);\n",
              "    animation:\n",
              "      spin 1s steps(1) infinite;\n",
              "  }\n",
              "\n",
              "  @keyframes spin {\n",
              "    0% {\n",
              "      border-color: transparent;\n",
              "      border-bottom-color: var(--fill-color);\n",
              "      border-left-color: var(--fill-color);\n",
              "    }\n",
              "    20% {\n",
              "      border-color: transparent;\n",
              "      border-left-color: var(--fill-color);\n",
              "      border-top-color: var(--fill-color);\n",
              "    }\n",
              "    30% {\n",
              "      border-color: transparent;\n",
              "      border-left-color: var(--fill-color);\n",
              "      border-top-color: var(--fill-color);\n",
              "      border-right-color: var(--fill-color);\n",
              "    }\n",
              "    40% {\n",
              "      border-color: transparent;\n",
              "      border-right-color: var(--fill-color);\n",
              "      border-top-color: var(--fill-color);\n",
              "    }\n",
              "    60% {\n",
              "      border-color: transparent;\n",
              "      border-right-color: var(--fill-color);\n",
              "    }\n",
              "    80% {\n",
              "      border-color: transparent;\n",
              "      border-right-color: var(--fill-color);\n",
              "      border-bottom-color: var(--fill-color);\n",
              "    }\n",
              "    90% {\n",
              "      border-color: transparent;\n",
              "      border-bottom-color: var(--fill-color);\n",
              "    }\n",
              "  }\n",
              "</style>\n",
              "\n",
              "  <script>\n",
              "    async function quickchart(key) {\n",
              "      const quickchartButtonEl =\n",
              "        document.querySelector('#' + key + ' button');\n",
              "      quickchartButtonEl.disabled = true;  // To prevent multiple clicks.\n",
              "      quickchartButtonEl.classList.add('colab-df-spinner');\n",
              "      try {\n",
              "        const charts = await google.colab.kernel.invokeFunction(\n",
              "            'suggestCharts', [key], {});\n",
              "      } catch (error) {\n",
              "        console.error('Error during call to suggestCharts:', error);\n",
              "      }\n",
              "      quickchartButtonEl.classList.remove('colab-df-spinner');\n",
              "      quickchartButtonEl.classList.add('colab-df-quickchart-complete');\n",
              "    }\n",
              "    (() => {\n",
              "      let quickchartButtonEl =\n",
              "        document.querySelector('#df-8f4af1e4-a83e-4905-9c63-98e0ab2ab089 button');\n",
              "      quickchartButtonEl.style.display =\n",
              "        google.colab.kernel.accessAllowed ? 'block' : 'none';\n",
              "    })();\n",
              "  </script>\n",
              "</div>\n",
              "    </div>\n",
              "  </div>\n"
            ],
            "application/vnd.google.colaboratory.intrinsic+json": {
              "type": "dataframe",
              "variable_name": "data",
              "summary": "{\n  \"name\": \"data\",\n  \"rows\": 30641,\n  \"fields\": [\n    {\n      \"column\": \"Gender\",\n      \"properties\": {\n        \"dtype\": \"category\",\n        \"num_unique_values\": 2,\n        \"samples\": [\n          \"male\",\n          \"female\"\n        ],\n        \"semantic_type\": \"\",\n        \"description\": \"\"\n      }\n    },\n    {\n      \"column\": \"EthnicGroup\",\n      \"properties\": {\n        \"dtype\": \"category\",\n        \"num_unique_values\": 5,\n        \"samples\": [\n          \"group B\",\n          \"group E\"\n        ],\n        \"semantic_type\": \"\",\n        \"description\": \"\"\n      }\n    },\n    {\n      \"column\": \"ParentEduc\",\n      \"properties\": {\n        \"dtype\": \"category\",\n        \"num_unique_values\": 6,\n        \"samples\": [\n          \"bachelor's degree\",\n          \"some college\"\n        ],\n        \"semantic_type\": \"\",\n        \"description\": \"\"\n      }\n    },\n    {\n      \"column\": \"LunchType\",\n      \"properties\": {\n        \"dtype\": \"category\",\n        \"num_unique_values\": 2,\n        \"samples\": [\n          \"free/reduced\",\n          \"standard\"\n        ],\n        \"semantic_type\": \"\",\n        \"description\": \"\"\n      }\n    },\n    {\n      \"column\": \"TestPrep\",\n      \"properties\": {\n        \"dtype\": \"category\",\n        \"num_unique_values\": 2,\n        \"samples\": [\n          \"completed\",\n          \"none\"\n        ],\n        \"semantic_type\": \"\",\n        \"description\": \"\"\n      }\n    },\n    {\n      \"column\": \"ParentMaritalStatus\",\n      \"properties\": {\n        \"dtype\": \"category\",\n        \"num_unique_values\": 4,\n        \"samples\": [\n          \"single\",\n          \"divorced\"\n        ],\n        \"semantic_type\": \"\",\n        \"description\": \"\"\n      }\n    },\n    {\n      \"column\": \"PracticeSport\",\n      \"properties\": {\n        \"dtype\": \"category\",\n        \"num_unique_values\": 3,\n        \"samples\": [\n          \"regularly\",\n          \"sometimes\"\n        ],\n        \"semantic_type\": \"\",\n        \"description\": \"\"\n      }\n    },\n    {\n      \"column\": \"IsFirstChild\",\n      \"properties\": {\n        \"dtype\": \"category\",\n        \"num_unique_values\": 2,\n        \"samples\": [\n          \"no\",\n          \"yes\"\n        ],\n        \"semantic_type\": \"\",\n        \"description\": \"\"\n      }\n    },\n    {\n      \"column\": \"NrSiblings\",\n      \"properties\": {\n        \"dtype\": \"number\",\n        \"std\": 1.4582424759686543,\n        \"min\": 0.0,\n        \"max\": 7.0,\n        \"num_unique_values\": 8,\n        \"samples\": [\n          0.0,\n          5.0\n        ],\n        \"semantic_type\": \"\",\n        \"description\": \"\"\n      }\n    },\n    {\n      \"column\": \"TransportMeans\",\n      \"properties\": {\n        \"dtype\": \"category\",\n        \"num_unique_values\": 2,\n        \"samples\": [\n          \"private\",\n          \"school_bus\"\n        ],\n        \"semantic_type\": \"\",\n        \"description\": \"\"\n      }\n    },\n    {\n      \"column\": \"WklyStudyHours\",\n      \"properties\": {\n        \"dtype\": \"category\",\n        \"num_unique_values\": 3,\n        \"samples\": [\n          \"< 5\",\n          \"5 - 10\"\n        ],\n        \"semantic_type\": \"\",\n        \"description\": \"\"\n      }\n    },\n    {\n      \"column\": \"MathScore\",\n      \"properties\": {\n        \"dtype\": \"number\",\n        \"std\": 15,\n        \"min\": 0,\n        \"max\": 100,\n        \"num_unique_values\": 95,\n        \"samples\": [\n          36,\n          70\n        ],\n        \"semantic_type\": \"\",\n        \"description\": \"\"\n      }\n    },\n    {\n      \"column\": \"ReadingScore\",\n      \"properties\": {\n        \"dtype\": \"number\",\n        \"std\": 14,\n        \"min\": 10,\n        \"max\": 100,\n        \"num_unique_values\": 90,\n        \"samples\": [\n          48,\n          65\n        ],\n        \"semantic_type\": \"\",\n        \"description\": \"\"\n      }\n    },\n    {\n      \"column\": \"WritingScore\",\n      \"properties\": {\n        \"dtype\": \"number\",\n        \"std\": 15,\n        \"min\": 4,\n        \"max\": 100,\n        \"num_unique_values\": 93,\n        \"samples\": [\n          10,\n          76\n        ],\n        \"semantic_type\": \"\",\n        \"description\": \"\"\n      }\n    }\n  ]\n}"
            }
          },
          "metadata": {},
          "execution_count": 3
        }
      ]
    },
    {
      "cell_type": "markdown",
      "source": [
        "### Розподіл за статтю серед учнів"
      ],
      "metadata": {
        "id": "FFYe-TnGT0OS"
      }
    },
    {
      "cell_type": "markdown",
      "source": [
        "1. Скільки студентів і студенток у наборі даних?"
      ],
      "metadata": {
        "id": "t0kWViF3UQ3l"
      }
    },
    {
      "cell_type": "code",
      "source": [
        "male_count = len(data.loc[data[\"Gender\"] == \"male\"])\n",
        "male_count"
      ],
      "metadata": {
        "colab": {
          "base_uri": "https://localhost:8080/"
        },
        "id": "zP2kcjBhTzHm",
        "outputId": "8117519b-a4b8-499d-f41b-8392757feb44"
      },
      "execution_count": 4,
      "outputs": [
        {
          "output_type": "execute_result",
          "data": {
            "text/plain": [
              "15217"
            ]
          },
          "metadata": {},
          "execution_count": 4
        }
      ]
    },
    {
      "cell_type": "code",
      "source": [
        "female_count = len(data.loc[data[\"Gender\"] == \"female\"])\n",
        "female_count"
      ],
      "metadata": {
        "colab": {
          "base_uri": "https://localhost:8080/"
        },
        "id": "_r8xbHDTUTgk",
        "outputId": "1268ec96-0be2-44a1-b7e6-ac5f258e1af3"
      },
      "execution_count": 5,
      "outputs": [
        {
          "output_type": "execute_result",
          "data": {
            "text/plain": [
              "15424"
            ]
          },
          "metadata": {},
          "execution_count": 5
        }
      ]
    },
    {
      "cell_type": "markdown",
      "source": [
        "2. Який відсоток студентів чоловічої статі в наборі даних?\n",
        "3. Який відсоток студенток у наборі даних?"
      ],
      "metadata": {
        "id": "r9CO57eJUbIs"
      }
    },
    {
      "cell_type": "code",
      "source": [
        "count = len(data[\"Gender\"])\n",
        "male_percent = round(male_count/count * 100, 2)\n",
        "female_percent = round(female_count/count * 100, 2)\n",
        "\n",
        "plt.pie([male_count, female_count], labels=[f\"Male {male_percent}%\", f\"Female {female_percent}%\"])\n",
        "plt.show()"
      ],
      "metadata": {
        "colab": {
          "base_uri": "https://localhost:8080/",
          "height": 406
        },
        "id": "eKxJjQ1AUZJo",
        "outputId": "0a941a3a-624a-4b57-ca23-dcded872c6d9"
      },
      "execution_count": 6,
      "outputs": [
        {
          "output_type": "display_data",
          "data": {
            "text/plain": [
              "<Figure size 640x480 with 1 Axes>"
            ],
            "image/png": "[encoded data removed]"
          },
          "metadata": {}
        }
      ]
    },
    {
      "cell_type": "markdown",
      "source": [
        "### Зв’язок між етнічною групою та результатами тестів"
      ],
      "metadata": {
        "id": "Nx6FzzUpUlMf"
      }
    },
    {
      "cell_type": "markdown",
      "source": [
        "4. Яка етнічна група має найвищий середній бал з математики?"
      ],
      "metadata": {
        "id": "6i8t2iZbU0p_"
      }
    },
    {
      "cell_type": "code",
      "source": [
        "ethnicMath = data.groupby(\"EthnicGroup\")[\"MathScore\"].median()\n",
        "f\"Math: {ethnicMath.idxmax()} - {ethnicMath.max()}\""
      ],
      "metadata": {
        "colab": {
          "base_uri": "https://localhost:8080/",
          "height": 36
        },
        "id": "3_5AB5xvUnYb",
        "outputId": "b4445ca1-f695-4eba-b469-5e7c096d5744"
      },
      "execution_count": 7,
      "outputs": [
        {
          "output_type": "execute_result",
          "data": {
            "text/plain": [
              "'Math: group E - 76.0'"
            ],
            "application/vnd.google.colaboratory.intrinsic+json": {
              "type": "string"
            }
          },
          "metadata": {},
          "execution_count": 7
        }
      ]
    },
    {
      "cell_type": "code",
      "source": [
        "plt.pie(ethnicMath, labels = ethnicMath.keys(), explode = ethnicMath/1000, autopct='%1.1f%%')\n",
        "plt.show()"
      ],
      "metadata": {
        "colab": {
          "base_uri": "https://localhost:8080/",
          "height": 406
        },
        "id": "CNk0u_c6VJEM",
        "outputId": "b5f6b694-48e2-4010-ea13-da25948551ac"
      },
      "execution_count": 8,
      "outputs": [
        {
          "output_type": "display_data",
          "data": {
            "text/plain": [
              "<Figure size 640x480 with 1 Axes>"
            ],
            "image/png": "[encoded data removed]"
          },
          "metadata": {}
        }
      ]
    },
    {
      "cell_type": "markdown",
      "source": [
        "5. Яка етнічна група має найвищий середній бал читання?"
      ],
      "metadata": {
        "id": "3LYpbEP-U5gn"
      }
    },
    {
      "cell_type": "code",
      "source": [
        "ethnicReading = data.groupby(\"EthnicGroup\")[\"ReadingScore\"].median()\n",
        "f\"Reading: {ethnicReading.idxmax()} - {ethnicReading.max()}\""
      ],
      "metadata": {
        "colab": {
          "base_uri": "https://localhost:8080/",
          "height": 36
        },
        "id": "3KaMHr_iVBSQ",
        "outputId": "e46476c4-2417-479d-b013-ee2c0d6f89d7"
      },
      "execution_count": 9,
      "outputs": [
        {
          "output_type": "execute_result",
          "data": {
            "text/plain": [
              "'Reading: group E - 75.0'"
            ],
            "application/vnd.google.colaboratory.intrinsic+json": {
              "type": "string"
            }
          },
          "metadata": {},
          "execution_count": 9
        }
      ]
    },
    {
      "cell_type": "code",
      "source": [
        "plt.pie(ethnicReading, labels = ethnicReading.keys(), explode = ethnicReading/1000, autopct='%1.1f%%')\n",
        "plt.show()"
      ],
      "metadata": {
        "colab": {
          "base_uri": "https://localhost:8080/",
          "height": 406
        },
        "id": "Fr8evNf4WMTQ",
        "outputId": "4ef24b87-887c-4afc-efe9-9cc9aab2c80f"
      },
      "execution_count": 10,
      "outputs": [
        {
          "output_type": "display_data",
          "data": {
            "text/plain": [
              "<Figure size 640x480 with 1 Axes>"
            ],
            "image/png": "[encoded data removed]"
          },
          "metadata": {}
        }
      ]
    },
    {
      "cell_type": "markdown",
      "source": [
        "6. Яка етнічна група має найвищий середній бал з письма?"
      ],
      "metadata": {
        "id": "AxOOoc8QU_ZW"
      }
    },
    {
      "cell_type": "code",
      "source": [
        "ethnicWriting = data.groupby(\"EthnicGroup\")[\"WritingScore\"].median()\n",
        "f\"Writing: {ethnicWriting.idxmax()} - {ethnicWriting.max()}\""
      ],
      "metadata": {
        "colab": {
          "base_uri": "https://localhost:8080/",
          "height": 36
        },
        "id": "ZHdBPA_GVBBv",
        "outputId": "b75561fb-0b7c-4d2b-f185-b96b77ba7d97"
      },
      "execution_count": 11,
      "outputs": [
        {
          "output_type": "execute_result",
          "data": {
            "text/plain": [
              "'Writing: group E - 73.0'"
            ],
            "application/vnd.google.colaboratory.intrinsic+json": {
              "type": "string"
            }
          },
          "metadata": {},
          "execution_count": 11
        }
      ]
    },
    {
      "cell_type": "code",
      "source": [
        "plt.pie(ethnicWriting, labels = ethnicWriting.keys(), explode = ethnicWriting/1000, autopct='%1.1f%%')\n",
        "plt.show()"
      ],
      "metadata": {
        "colab": {
          "base_uri": "https://localhost:8080/",
          "height": 406
        },
        "id": "qHVMMNK3WhBG",
        "outputId": "dd31b06d-4a9e-43de-a31c-400a5c1fbe03"
      },
      "execution_count": 12,
      "outputs": [
        {
          "output_type": "display_data",
          "data": {
            "text/plain": [
              "<Figure size 640x480 with 1 Axes>"
            ],
            "image/png": "[encoded data removed]"
          },
          "metadata": {}
        }
      ]
    },
    {
      "cell_type": "markdown",
      "source": [
        "### Вплив курсу підготовки до тесту на результати тесту"
      ],
      "metadata": {
        "id": "JPZxAXTpWlmU"
      }
    },
    {
      "cell_type": "markdown",
      "source": [
        "7. Який середній бал з математики для студентів, які закінчили курс підготовки до тесту?"
      ],
      "metadata": {
        "id": "hByKELdVWrk7"
      }
    },
    {
      "cell_type": "code",
      "source": [
        "test = data.groupby(\"TestPrep\")[\"MathScore\"].median()\n",
        "f'Math: {test[\"completed\"]}'"
      ],
      "metadata": {
        "colab": {
          "base_uri": "https://localhost:8080/",
          "height": 36
        },
        "id": "3GVlUY0zWog3",
        "outputId": "1cd76724-02e4-4866-fe56-e7a331623f01"
      },
      "execution_count": 13,
      "outputs": [
        {
          "output_type": "execute_result",
          "data": {
            "text/plain": [
              "'Math: 70.0'"
            ],
            "application/vnd.google.colaboratory.intrinsic+json": {
              "type": "string"
            }
          },
          "metadata": {},
          "execution_count": 13
        }
      ]
    },
    {
      "cell_type": "markdown",
      "source": [
        "8. Який середній бал з читання для студентів, які пройшли курс підготовки до тесту?"
      ],
      "metadata": {
        "id": "vHt0euhMWxSV"
      }
    },
    {
      "cell_type": "code",
      "source": [
        "test = data.groupby(\"TestPrep\")[\"ReadingScore\"].median()\n",
        "f'Reading: {test[\"completed\"]}'"
      ],
      "metadata": {
        "colab": {
          "base_uri": "https://localhost:8080/",
          "height": 36
        },
        "id": "2tePknYhW8Da",
        "outputId": "77837f8a-4061-49ea-a257-33d5a58c1844"
      },
      "execution_count": 14,
      "outputs": [
        {
          "output_type": "execute_result",
          "data": {
            "text/plain": [
              "'Reading: 74.0'"
            ],
            "application/vnd.google.colaboratory.intrinsic+json": {
              "type": "string"
            }
          },
          "metadata": {},
          "execution_count": 14
        }
      ]
    },
    {
      "cell_type": "markdown",
      "source": [
        "9. Який середній бал з письма для студентів, які закінчили курс підготовки до тесту?"
      ],
      "metadata": {
        "id": "5qIHsBFNW-FV"
      }
    },
    {
      "cell_type": "code",
      "source": [
        "test = data.groupby(\"TestPrep\")[\"WritingScore\"].median()\n",
        "f'Writing: {test[\"completed\"]}'"
      ],
      "metadata": {
        "colab": {
          "base_uri": "https://localhost:8080/",
          "height": 36
        },
        "id": "wKZDfBE6W_8X",
        "outputId": "8888f111-15ee-4f82-e85b-c731c7931298"
      },
      "execution_count": 15,
      "outputs": [
        {
          "output_type": "execute_result",
          "data": {
            "text/plain": [
              "'Writing: 75.0'"
            ],
            "application/vnd.google.colaboratory.intrinsic+json": {
              "type": "string"
            }
          },
          "metadata": {},
          "execution_count": 15
        }
      ]
    },
    {
      "cell_type": "markdown",
      "source": [
        "### Розподіл батьків(ів) за сімейним станом серед учнів"
      ],
      "metadata": {
        "id": "IFxXNRaQXQc6"
      }
    },
    {
      "cell_type": "markdown",
      "source": [
        "10. Скільки студентів мають одружених батьків?"
      ],
      "metadata": {
        "id": "aAIFFNHhXXGj"
      }
    },
    {
      "cell_type": "code",
      "source": [
        "parents = data.groupby(\"ParentMaritalStatus\")[\"ParentMaritalStatus\"].count()\n",
        "parents[\"married\"]"
      ],
      "metadata": {
        "colab": {
          "base_uri": "https://localhost:8080/"
        },
        "id": "cdA4TZDxXTjj",
        "outputId": "800a696a-8fb6-4860-e600-a8fd73814bc1"
      },
      "execution_count": 16,
      "outputs": [
        {
          "output_type": "execute_result",
          "data": {
            "text/plain": [
              "16844"
            ]
          },
          "metadata": {},
          "execution_count": 16
        }
      ]
    },
    {
      "cell_type": "markdown",
      "source": [
        "11. Скільки студентів мають батьків-одинаків?"
      ],
      "metadata": {
        "id": "M8ff1kRAXaUX"
      }
    },
    {
      "cell_type": "code",
      "source": [
        "parents[\"single\"]"
      ],
      "metadata": {
        "colab": {
          "base_uri": "https://localhost:8080/"
        },
        "id": "i5NSB5pqXaE_",
        "outputId": "bf37ae5b-5354-4f87-d6c8-c4ee9e63d611"
      },
      "execution_count": 17,
      "outputs": [
        {
          "output_type": "execute_result",
          "data": {
            "text/plain": [
              "7097"
            ]
          },
          "metadata": {},
          "execution_count": 17
        }
      ]
    },
    {
      "cell_type": "markdown",
      "source": [
        "### Зв’язок між заняттями спортом і результатами тестів"
      ],
      "metadata": {
        "id": "4ZTFLrL5XgXo"
      }
    },
    {
      "cell_type": "markdown",
      "source": [
        "12. Чи студенти, які регулярно займаються спортом, мають вищі середні результати з математики, ніж ті, хто ніколи не займається спортом?"
      ],
      "metadata": {
        "id": "rA8e1WkmXldp"
      }
    },
    {
      "cell_type": "code",
      "source": [
        "sport = data.groupby(\"PracticeSport\")[\"MathScore\"].median()\n",
        "sport[\"regularly\"] > sport[\"never\"]"
      ],
      "metadata": {
        "colab": {
          "base_uri": "https://localhost:8080/"
        },
        "id": "WA5QHCtgXi9s",
        "outputId": "982b9fab-9314-4732-c96d-adca6a6439e1"
      },
      "execution_count": 18,
      "outputs": [
        {
          "output_type": "execute_result",
          "data": {
            "text/plain": [
              "True"
            ]
          },
          "metadata": {},
          "execution_count": 18
        }
      ]
    },
    {
      "cell_type": "markdown",
      "source": [
        "13. Чи студенти, які регулярно займаються спортом, мають вищі середні результати читання, ніж ті, хто ніколи не займається спортом?"
      ],
      "metadata": {
        "id": "GAyZUNXzX17_"
      }
    },
    {
      "cell_type": "code",
      "source": [
        "sport = data.groupby(\"PracticeSport\")[\"ReadingScore\"].median()\n",
        "sport[\"regularly\"] > sport[\"never\"]"
      ],
      "metadata": {
        "colab": {
          "base_uri": "https://localhost:8080/"
        },
        "id": "Xo1iLaydX2dB",
        "outputId": "3a7c6ca2-2dbd-487a-ec77-2f2bd100bc7c"
      },
      "execution_count": 19,
      "outputs": [
        {
          "output_type": "execute_result",
          "data": {
            "text/plain": [
              "True"
            ]
          },
          "metadata": {},
          "execution_count": 19
        }
      ]
    },
    {
      "cell_type": "markdown",
      "source": [
        "### Розподіл транспортних засобів до школи серед учнів"
      ],
      "metadata": {
        "id": "oPT7RsOYX4Zc"
      }
    },
    {
      "cell_type": "markdown",
      "source": [
        "14. Скільки учнів користується шкільним автобусом, щоб дістатися до школи?"
      ],
      "metadata": {
        "id": "oQj0SB__X_UK"
      }
    },
    {
      "cell_type": "code",
      "source": [
        "transport = data.groupby(\"TransportMeans\")[\"TransportMeans\"].count()\n",
        "transport[\"school_bus\"]"
      ],
      "metadata": {
        "colab": {
          "base_uri": "https://localhost:8080/"
        },
        "id": "cIItNvWQX4JC",
        "outputId": "bd779fb2-145e-4aef-8e68-f53b7784bc38"
      },
      "execution_count": 20,
      "outputs": [
        {
          "output_type": "execute_result",
          "data": {
            "text/plain": [
              "16145"
            ]
          },
          "metadata": {},
          "execution_count": 20
        }
      ]
    },
    {
      "cell_type": "markdown",
      "source": [
        "15. Скільки учнів користується приватним транспортом, щоб дістатися до школи?"
      ],
      "metadata": {
        "id": "zjSl-ypRYCkv"
      }
    },
    {
      "cell_type": "code",
      "source": [
        "transport[\"private\"]"
      ],
      "metadata": {
        "colab": {
          "base_uri": "https://localhost:8080/"
        },
        "id": "ntjtsN72YEal",
        "outputId": "b2c89ead-9a7c-4773-98e2-c6db05559f5e"
      },
      "execution_count": 21,
      "outputs": [
        {
          "output_type": "execute_result",
          "data": {
            "text/plain": [
              "11362"
            ]
          },
          "metadata": {},
          "execution_count": 21
        }
      ]
    },
    {
      "cell_type": "markdown",
      "source": [
        "## Задача класифікації"
      ],
      "metadata": {
        "id": "ArXbSD1EYNpG"
      }
    },
    {
      "cell_type": "markdown",
      "source": [
        "Передбачте, чи завершив студент курс підготовки до іспиту, на основі його демографічних та академічних даних."
      ],
      "metadata": {
        "id": "dQ2hHGKkYScz"
      }
    },
    {
      "cell_type": "markdown",
      "source": [
        "Вхідні дані:\n",
        "Gender, EthnicGroup, ParentEduc, LunchType, ParentMaritalStatus, PracticeSport, IsFirstChild, NrSiblings,       TransportMeans, WklyStudyHours, MathScore, ReadingScore, WritingScore"
      ],
      "metadata": {
        "id": "YZ-NDs59YYA1"
      }
    },
    {
      "cell_type": "markdown",
      "source": [
        "Результат: TestPrep"
      ],
      "metadata": {
        "id": "CF5LCmboYZlm"
      }
    },
    {
      "cell_type": "code",
      "source": [
        "data = data.dropna()"
      ],
      "metadata": {
        "id": "1DFg_nNrYPao"
      },
      "execution_count": 22,
      "outputs": []
    },
    {
      "cell_type": "code",
      "source": [
        "from sklearn.preprocessing import OrdinalEncoder\n",
        "\n",
        "ordinal_encoder = OrdinalEncoder()\n",
        "X = ordinal_encoder.fit_transform(data.drop(\"TestPrep\", axis=1))\n",
        "X[:5]"
      ],
      "metadata": {
        "colab": {
          "base_uri": "https://localhost:8080/"
        },
        "id": "x_215QpXYfp0",
        "outputId": "c997a423-dfe4-4cf5-9841-3d14d53ee349"
      },
      "execution_count": 23,
      "outputs": [
        {
          "output_type": "execute_result",
          "data": {
            "text/plain": [
              "array([[ 0.,  1.,  3.,  1.,  2.,  2.,  1.,  4.,  1.,  1., 81., 82., 81.],\n",
              "       [ 1.,  2.,  4.,  1.,  1.,  2.,  1.,  0.,  1.,  0., 70., 67., 65.],\n",
              "       [ 0.,  1.,  0.,  1.,  1.,  1.,  1.,  1.,  1.,  0., 67., 73., 69.],\n",
              "       [ 0.,  1.,  4.,  1.,  3.,  0.,  0.,  1.,  0.,  0., 79., 82., 79.],\n",
              "       [ 1.,  1.,  4.,  0.,  1.,  2.,  1.,  1.,  0.,  2., 35., 32., 29.]])"
            ]
          },
          "metadata": {},
          "execution_count": 23
        }
      ]
    },
    {
      "cell_type": "code",
      "source": [
        "y = np.array([0 if i == \"none\" else 1 for i in data[\"TestPrep\"].values])\n",
        "y[:5]"
      ],
      "metadata": {
        "colab": {
          "base_uri": "https://localhost:8080/"
        },
        "id": "TXo30DVmYmiX",
        "outputId": "8edd623e-233a-4be6-c685-f6300f0b8aca"
      },
      "execution_count": 24,
      "outputs": [
        {
          "output_type": "execute_result",
          "data": {
            "text/plain": [
              "array([0, 0, 0, 1, 0])"
            ]
          },
          "metadata": {},
          "execution_count": 24
        }
      ]
    },
    {
      "cell_type": "code",
      "source": [
        "len(X)"
      ],
      "metadata": {
        "colab": {
          "base_uri": "https://localhost:8080/"
        },
        "id": "HzTHBO8IYqht",
        "outputId": "5f15c492-123f-450c-a7cc-33145cbb7caf"
      },
      "execution_count": 25,
      "outputs": [
        {
          "output_type": "execute_result",
          "data": {
            "text/plain": [
              "19243"
            ]
          },
          "metadata": {},
          "execution_count": 25
        }
      ]
    },
    {
      "cell_type": "code",
      "source": [
        "len(y)"
      ],
      "metadata": {
        "colab": {
          "base_uri": "https://localhost:8080/"
        },
        "id": "zwaXi5L1YrmQ",
        "outputId": "47f776c5-465f-4956-b2c1-423390f1164c"
      },
      "execution_count": 26,
      "outputs": [
        {
          "output_type": "execute_result",
          "data": {
            "text/plain": [
              "19243"
            ]
          },
          "metadata": {},
          "execution_count": 26
        }
      ]
    },
    {
      "cell_type": "code",
      "source": [
        "X_train, X_test, y_train, y_test = X[:9000], X[9000:], y[:9000], y[9000:]"
      ],
      "metadata": {
        "id": "nJF-E3GXYuAH"
      },
      "execution_count": 27,
      "outputs": []
    },
    {
      "cell_type": "code",
      "source": [
        "y_train_1 = (y_train == 1)"
      ],
      "metadata": {
        "id": "TTskO6J_Yv8l"
      },
      "execution_count": 28,
      "outputs": []
    },
    {
      "cell_type": "code",
      "source": [
        "from sklearn.linear_model import SGDClassifier\n",
        "\n",
        "sgd_clf = SGDClassifier(random_state=83)\n",
        "sgd_clf.fit(X_train, y_train_1)"
      ],
      "metadata": {
        "colab": {
          "base_uri": "https://localhost:8080/",
          "height": 74
        },
        "id": "Mdqvi20GYzQA",
        "outputId": "119df472-5bad-47a0-f496-04caa95ed0da"
      },
      "execution_count": 35,
      "outputs": [
        {
          "output_type": "execute_result",
          "data": {
            "text/plain": [
              "SGDClassifier(random_state=83)"
            ],
            "text/html": [
              "<style>#sk-container-id-4 {color: black;background-color: white;}#sk-container-id-4 pre{padding: 0;}#sk-container-id-4 div.sk-toggleable {background-color: white;}#sk-container-id-4 label.sk-toggleable__label {cursor: pointer;display: block;width: 100%;margin-bottom: 0;padding: 0.3em;box-sizing: border-box;text-align: center;}#sk-container-id-4 label.sk-toggleable__label-arrow:before {content: \"▸\";float: left;margin-right: 0.25em;color: #696969;}#sk-container-id-4 label.sk-toggleable__label-arrow:hover:before {color: black;}#sk-container-id-4 div.sk-estimator:hover label.sk-toggleable__label-arrow:before {color: black;}#sk-container-id-4 div.sk-toggleable__content {max-height: 0;max-width: 0;overflow: hidden;text-align: left;background-color: #f0f8ff;}#sk-container-id-4 div.sk-toggleable__content pre {margin: 0.2em;color: black;border-radius: 0.25em;background-color: #f0f8ff;}#sk-container-id-4 input.sk-toggleable__control:checked~div.sk-toggleable__content {max-height: 200px;max-width: 100%;overflow: auto;}#sk-container-id-4 input.sk-toggleable__control:checked~label.sk-toggleable__label-arrow:before {content: \"▾\";}#sk-container-id-4 div.sk-estimator input.sk-toggleable__control:checked~label.sk-toggleable__label {background-color: #d4ebff;}#sk-container-id-4 div.sk-label input.sk-toggleable__control:checked~label.sk-toggleable__label {background-color: #d4ebff;}#sk-container-id-4 input.sk-hidden--visually {border: 0;clip: rect(1px 1px 1px 1px);clip: rect(1px, 1px, 1px, 1px);height: 1px;margin: -1px;overflow: hidden;padding: 0;position: absolute;width: 1px;}#sk-container-id-4 div.sk-estimator {font-family: monospace;background-color: #f0f8ff;border: 1px dotted black;border-radius: 0.25em;box-sizing: border-box;margin-bottom: 0.5em;}#sk-container-id-4 div.sk-estimator:hover {background-color: #d4ebff;}#sk-container-id-4 div.sk-parallel-item::after {content: \"\";width: 100%;border-bottom: 1px solid gray;flex-grow: 1;}#sk-container-id-4 div.sk-label:hover label.sk-toggleable__label {background-color: #d4ebff;}#sk-container-id-4 div.sk-serial::before {content: \"\";position: absolute;border-left: 1px solid gray;box-sizing: border-box;top: 0;bottom: 0;left: 50%;z-index: 0;}#sk-container-id-4 div.sk-serial {display: flex;flex-direction: column;align-items: center;background-color: white;padding-right: 0.2em;padding-left: 0.2em;position: relative;}#sk-container-id-4 div.sk-item {position: relative;z-index: 1;}#sk-container-id-4 div.sk-parallel {display: flex;align-items: stretch;justify-content: center;background-color: white;position: relative;}#sk-container-id-4 div.sk-item::before, #sk-container-id-4 div.sk-parallel-item::before {content: \"\";position: absolute;border-left: 1px solid gray;box-sizing: border-box;top: 0;bottom: 0;left: 50%;z-index: -1;}#sk-container-id-4 div.sk-parallel-item {display: flex;flex-direction: column;z-index: 1;position: relative;background-color: white;}#sk-container-id-4 div.sk-parallel-item:first-child::after {align-self: flex-end;width: 50%;}#sk-container-id-4 div.sk-parallel-item:last-child::after {align-self: flex-start;width: 50%;}#sk-container-id-4 div.sk-parallel-item:only-child::after {width: 0;}#sk-container-id-4 div.sk-dashed-wrapped {border: 1px dashed gray;margin: 0 0.4em 0.5em 0.4em;box-sizing: border-box;padding-bottom: 0.4em;background-color: white;}#sk-container-id-4 div.sk-label label {font-family: monospace;font-weight: bold;display: inline-block;line-height: 1.2em;}#sk-container-id-4 div.sk-label-container {text-align: center;}#sk-container-id-4 div.sk-container {/* jupyter's `normalize.less` sets `[hidden] { display: none; }` but bootstrap.min.css set `[hidden] { display: none !important; }` so we also need the `!important` here to be able to override the default hidden behavior on the sphinx rendered scikit-learn.org. See: https://github.com/scikit-learn/scikit-learn/issues/21755 */display: inline-block !important;position: relative;}#sk-container-id-4 div.sk-text-repr-fallback {display: none;}</style><div id=\"sk-container-id-4\" class=\"sk-top-container\"><div class=\"sk-text-repr-fallback\"><pre>SGDClassifier(random_state=83)</pre><b>In a Jupyter environment, please rerun this cell to show the HTML representation or trust the notebook. <br />On GitHub, the HTML representation is unable to render, please try loading this page with nbviewer.org.</b></div><div class=\"sk-container\" hidden><div class=\"sk-item\"><div class=\"sk-estimator sk-toggleable\"><input class=\"sk-toggleable__control sk-hidden--visually\" id=\"sk-estimator-id-4\" type=\"checkbox\" checked><label for=\"sk-estimator-id-4\" class=\"sk-toggleable__label sk-toggleable__label-arrow\">SGDClassifier</label><div class=\"sk-toggleable__content\"><pre>SGDClassifier(random_state=83)</pre></div></div></div></div></div>"
            ]
          },
          "metadata": {},
          "execution_count": 35
        }
      ]
    },
    {
      "cell_type": "code",
      "source": [
        "sgd_clf.predict([X[120]])"
      ],
      "metadata": {
        "colab": {
          "base_uri": "https://localhost:8080/"
        },
        "id": "ubE5bryvY22N",
        "outputId": "d9e9308d-519c-44a7-8ca8-ea6deb01eeef"
      },
      "execution_count": 37,
      "outputs": [
        {
          "output_type": "execute_result",
          "data": {
            "text/plain": [
              "array([ True])"
            ]
          },
          "metadata": {},
          "execution_count": 37
        }
      ]
    },
    {
      "cell_type": "code",
      "source": [
        "y[120]"
      ],
      "metadata": {
        "colab": {
          "base_uri": "https://localhost:8080/"
        },
        "id": "88g5v4hyY5qV",
        "outputId": "393c87f1-50af-4b07-e271-13dff33d7367"
      },
      "execution_count": 38,
      "outputs": [
        {
          "output_type": "execute_result",
          "data": {
            "text/plain": [
              "1"
            ]
          },
          "metadata": {},
          "execution_count": 38
        }
      ]
    },
    {
      "cell_type": "code",
      "source": [
        "from sklearn.model_selection import cross_val_score\n",
        "\n",
        "cross_val_score(sgd_clf, X_train, y_train_1, cv=3, scoring=\"accuracy\")"
      ],
      "metadata": {
        "colab": {
          "base_uri": "https://localhost:8080/"
        },
        "id": "__Z-FYJtZFXi",
        "outputId": "bc6a6b8e-7e49-4ee5-91bb-17a3d7d0b9b0"
      },
      "execution_count": 39,
      "outputs": [
        {
          "output_type": "execute_result",
          "data": {
            "text/plain": [
              "array([0.67233333, 0.63433333, 0.74466667])"
            ]
          },
          "metadata": {},
          "execution_count": 39
        }
      ]
    },
    {
      "cell_type": "code",
      "source": [
        "from tensorflow import keras\n",
        "\n",
        "model = keras.models.Sequential([\n",
        "    keras.layers.Dense(64, input_dim=X_train.shape[1], activation='relu'),\n",
        "    keras.layers.Dense(32, activation='relu'),\n",
        "    keras.layers.Dense(1)\n",
        "])"
      ],
      "metadata": {
        "id": "RUoT2ABoZIsO"
      },
      "execution_count": 40,
      "outputs": []
    },
    {
      "cell_type": "code",
      "source": [
        "X_valid, X_train_2 = X_train[:5000], X_train[5000:]\n",
        "y_valid, y_train_2 = y_train[:5000], y_train[5000:]"
      ],
      "metadata": {
        "id": "NEznKqUvZLrX"
      },
      "execution_count": 41,
      "outputs": []
    },
    {
      "cell_type": "code",
      "source": [
        "model.compile(loss='mean_squared_error', optimizer='adam', metrics=[\"accuracy\"])\n",
        "model.fit(X_train, y_train, epochs=100, batch_size=32, verbose=1, validation_data=(X_valid, y_valid))"
      ],
      "metadata": {
        "colab": {
          "base_uri": "https://localhost:8080/"
        },
        "id": "1Ym81ysAZPBV",
        "outputId": "bc5c64ed-d755-498c-c239-ca4b5aae31e6"
      },
      "execution_count": 42,
      "outputs": [
        {
          "output_type": "stream",
          "name": "stdout",
          "text": [
            "Epoch 1/100\n",
            "282/282 [==============================] - 2s 3ms/step - loss: 5.5181 - accuracy: 0.5690 - val_loss: 0.2253 - val_accuracy: 0.6636\n",
            "Epoch 2/100\n",
            "282/282 [==============================] - 1s 3ms/step - loss: 0.2048 - accuracy: 0.6937 - val_loss: 0.1896 - val_accuracy: 0.7102\n",
            "Epoch 3/100\n",
            "282/282 [==============================] - 1s 2ms/step - loss: 0.1960 - accuracy: 0.7097 - val_loss: 0.1834 - val_accuracy: 0.7184\n",
            "Epoch 4/100\n",
            "282/282 [==============================] - 1s 3ms/step - loss: 0.1899 - accuracy: 0.7187 - val_loss: 0.1819 - val_accuracy: 0.7272\n",
            "Epoch 5/100\n",
            "282/282 [==============================] - 1s 3ms/step - loss: 0.1841 - accuracy: 0.7251 - val_loss: 0.1788 - val_accuracy: 0.7296\n",
            "Epoch 6/100\n",
            "282/282 [==============================] - 1s 4ms/step - loss: 0.1899 - accuracy: 0.7143 - val_loss: 0.1801 - val_accuracy: 0.7336\n",
            "Epoch 7/100\n",
            "282/282 [==============================] - 1s 4ms/step - loss: 0.1857 - accuracy: 0.7261 - val_loss: 0.1776 - val_accuracy: 0.7382\n",
            "Epoch 8/100\n",
            "282/282 [==============================] - 1s 4ms/step - loss: 0.1910 - accuracy: 0.7200 - val_loss: 0.1780 - val_accuracy: 0.7358\n",
            "Epoch 9/100\n",
            "282/282 [==============================] - 1s 3ms/step - loss: 0.1897 - accuracy: 0.7184 - val_loss: 0.1894 - val_accuracy: 0.7132\n",
            "Epoch 10/100\n",
            "282/282 [==============================] - 1s 4ms/step - loss: 0.1931 - accuracy: 0.7156 - val_loss: 0.1966 - val_accuracy: 0.6994\n",
            "Epoch 11/100\n",
            "282/282 [==============================] - 1s 4ms/step - loss: 0.1909 - accuracy: 0.7162 - val_loss: 0.1776 - val_accuracy: 0.7376\n",
            "Epoch 12/100\n",
            "282/282 [==============================] - 2s 6ms/step - loss: 0.1913 - accuracy: 0.7209 - val_loss: 0.1772 - val_accuracy: 0.7378\n",
            "Epoch 13/100\n",
            "282/282 [==============================] - 1s 4ms/step - loss: 0.1846 - accuracy: 0.7237 - val_loss: 0.2929 - val_accuracy: 0.5592\n",
            "Epoch 14/100\n",
            "282/282 [==============================] - 2s 6ms/step - loss: 0.1915 - accuracy: 0.7152 - val_loss: 0.1902 - val_accuracy: 0.7156\n",
            "Epoch 15/100\n",
            "282/282 [==============================] - 2s 7ms/step - loss: 0.1997 - accuracy: 0.7106 - val_loss: 0.2440 - val_accuracy: 0.6760\n",
            "Epoch 16/100\n",
            "282/282 [==============================] - 4s 12ms/step - loss: 0.1950 - accuracy: 0.7109 - val_loss: 0.1814 - val_accuracy: 0.7318\n",
            "Epoch 17/100\n",
            "282/282 [==============================] - 2s 8ms/step - loss: 0.1944 - accuracy: 0.7099 - val_loss: 0.1802 - val_accuracy: 0.7284\n",
            "Epoch 18/100\n",
            "282/282 [==============================] - 2s 6ms/step - loss: 0.1955 - accuracy: 0.7099 - val_loss: 0.1766 - val_accuracy: 0.7380\n",
            "Epoch 19/100\n",
            "282/282 [==============================] - 2s 6ms/step - loss: 0.2056 - accuracy: 0.7009 - val_loss: 0.2080 - val_accuracy: 0.6782\n",
            "Epoch 20/100\n",
            "282/282 [==============================] - 1s 3ms/step - loss: 0.1934 - accuracy: 0.7176 - val_loss: 0.1781 - val_accuracy: 0.7392\n",
            "Epoch 21/100\n",
            "282/282 [==============================] - 1s 3ms/step - loss: 0.1974 - accuracy: 0.7159 - val_loss: 0.1809 - val_accuracy: 0.7322\n",
            "Epoch 22/100\n",
            "282/282 [==============================] - 1s 3ms/step - loss: 0.1944 - accuracy: 0.7153 - val_loss: 0.1783 - val_accuracy: 0.7292\n",
            "Epoch 23/100\n",
            "282/282 [==============================] - 1s 3ms/step - loss: 0.1934 - accuracy: 0.7150 - val_loss: 0.2671 - val_accuracy: 0.5968\n",
            "Epoch 24/100\n",
            "282/282 [==============================] - 2s 6ms/step - loss: 0.2058 - accuracy: 0.7014 - val_loss: 0.1909 - val_accuracy: 0.7136\n",
            "Epoch 25/100\n",
            "282/282 [==============================] - 2s 8ms/step - loss: 0.1975 - accuracy: 0.7112 - val_loss: 0.1780 - val_accuracy: 0.7388\n",
            "Epoch 26/100\n",
            "282/282 [==============================] - 1s 3ms/step - loss: 0.1963 - accuracy: 0.7128 - val_loss: 0.1949 - val_accuracy: 0.6996\n",
            "Epoch 27/100\n",
            "282/282 [==============================] - 1s 3ms/step - loss: 0.1915 - accuracy: 0.7171 - val_loss: 0.1914 - val_accuracy: 0.7182\n",
            "Epoch 28/100\n",
            "282/282 [==============================] - 1s 3ms/step - loss: 0.1882 - accuracy: 0.7238 - val_loss: 0.1804 - val_accuracy: 0.7306\n",
            "Epoch 29/100\n",
            "282/282 [==============================] - 1s 3ms/step - loss: 0.1894 - accuracy: 0.7199 - val_loss: 0.2332 - val_accuracy: 0.6412\n",
            "Epoch 30/100\n",
            "282/282 [==============================] - 1s 3ms/step - loss: 0.1992 - accuracy: 0.7020 - val_loss: 0.1874 - val_accuracy: 0.7222\n",
            "Epoch 31/100\n",
            "282/282 [==============================] - 1s 3ms/step - loss: 0.1919 - accuracy: 0.7194 - val_loss: 0.1880 - val_accuracy: 0.7198\n",
            "Epoch 32/100\n",
            "282/282 [==============================] - 1s 3ms/step - loss: 0.1847 - accuracy: 0.7290 - val_loss: 0.1964 - val_accuracy: 0.7086\n",
            "Epoch 33/100\n",
            "282/282 [==============================] - 1s 3ms/step - loss: 0.2054 - accuracy: 0.6999 - val_loss: 0.1791 - val_accuracy: 0.7364\n",
            "Epoch 34/100\n",
            "282/282 [==============================] - 1s 3ms/step - loss: 0.1864 - accuracy: 0.7302 - val_loss: 0.1994 - val_accuracy: 0.7126\n",
            "Epoch 35/100\n",
            "282/282 [==============================] - 1s 3ms/step - loss: 0.1865 - accuracy: 0.7276 - val_loss: 0.1853 - val_accuracy: 0.7224\n",
            "Epoch 36/100\n",
            "282/282 [==============================] - 1s 3ms/step - loss: 0.1945 - accuracy: 0.7156 - val_loss: 0.1810 - val_accuracy: 0.7278\n",
            "Epoch 37/100\n",
            "282/282 [==============================] - 1s 3ms/step - loss: 0.1867 - accuracy: 0.7252 - val_loss: 0.2008 - val_accuracy: 0.6982\n",
            "Epoch 38/100\n",
            "282/282 [==============================] - 1s 4ms/step - loss: 0.1838 - accuracy: 0.7282 - val_loss: 0.2110 - val_accuracy: 0.6974\n",
            "Epoch 39/100\n",
            "282/282 [==============================] - 1s 5ms/step - loss: 0.1877 - accuracy: 0.7264 - val_loss: 0.1754 - val_accuracy: 0.7410\n",
            "Epoch 40/100\n",
            "282/282 [==============================] - 1s 3ms/step - loss: 0.1835 - accuracy: 0.7224 - val_loss: 0.1753 - val_accuracy: 0.7382\n",
            "Epoch 41/100\n",
            "282/282 [==============================] - 1s 3ms/step - loss: 0.1922 - accuracy: 0.7187 - val_loss: 0.1760 - val_accuracy: 0.7386\n",
            "Epoch 42/100\n",
            "282/282 [==============================] - 1s 3ms/step - loss: 0.1860 - accuracy: 0.7274 - val_loss: 0.2003 - val_accuracy: 0.7060\n",
            "Epoch 43/100\n",
            "282/282 [==============================] - 1s 2ms/step - loss: 0.1857 - accuracy: 0.7226 - val_loss: 0.2013 - val_accuracy: 0.7072\n",
            "Epoch 44/100\n",
            "282/282 [==============================] - 1s 3ms/step - loss: 0.1835 - accuracy: 0.7324 - val_loss: 0.1754 - val_accuracy: 0.7392\n",
            "Epoch 45/100\n",
            "282/282 [==============================] - 1s 3ms/step - loss: 0.1823 - accuracy: 0.7280 - val_loss: 0.1826 - val_accuracy: 0.7330\n",
            "Epoch 46/100\n",
            "282/282 [==============================] - 1s 3ms/step - loss: 0.1880 - accuracy: 0.7218 - val_loss: 0.1802 - val_accuracy: 0.7336\n",
            "Epoch 47/100\n",
            "282/282 [==============================] - 1s 3ms/step - loss: 0.1824 - accuracy: 0.7242 - val_loss: 0.1972 - val_accuracy: 0.7038\n",
            "Epoch 48/100\n",
            "282/282 [==============================] - 1s 3ms/step - loss: 0.1847 - accuracy: 0.7264 - val_loss: 0.1753 - val_accuracy: 0.7378\n",
            "Epoch 49/100\n",
            "282/282 [==============================] - 1s 3ms/step - loss: 0.1806 - accuracy: 0.7356 - val_loss: 0.1755 - val_accuracy: 0.7384\n",
            "Epoch 50/100\n",
            "282/282 [==============================] - 1s 3ms/step - loss: 0.1791 - accuracy: 0.7347 - val_loss: 0.1765 - val_accuracy: 0.7390\n",
            "Epoch 51/100\n",
            "282/282 [==============================] - 1s 3ms/step - loss: 0.1828 - accuracy: 0.7281 - val_loss: 0.1895 - val_accuracy: 0.7128\n",
            "Epoch 52/100\n",
            "282/282 [==============================] - 1s 5ms/step - loss: 0.1809 - accuracy: 0.7320 - val_loss: 0.1758 - val_accuracy: 0.7424\n",
            "Epoch 53/100\n",
            "282/282 [==============================] - 1s 4ms/step - loss: 0.1817 - accuracy: 0.7347 - val_loss: 0.1749 - val_accuracy: 0.7372\n",
            "Epoch 54/100\n",
            "282/282 [==============================] - 1s 3ms/step - loss: 0.1847 - accuracy: 0.7254 - val_loss: 0.1770 - val_accuracy: 0.7358\n",
            "Epoch 55/100\n",
            "282/282 [==============================] - 1s 3ms/step - loss: 0.1811 - accuracy: 0.7316 - val_loss: 0.1754 - val_accuracy: 0.7390\n",
            "Epoch 56/100\n",
            "282/282 [==============================] - 1s 3ms/step - loss: 0.1825 - accuracy: 0.7282 - val_loss: 0.1752 - val_accuracy: 0.7398\n",
            "Epoch 57/100\n",
            "282/282 [==============================] - 1s 2ms/step - loss: 0.1808 - accuracy: 0.7317 - val_loss: 0.1754 - val_accuracy: 0.7388\n",
            "Epoch 58/100\n",
            "282/282 [==============================] - 1s 3ms/step - loss: 0.1790 - accuracy: 0.7359 - val_loss: 0.1775 - val_accuracy: 0.7414\n",
            "Epoch 59/100\n",
            "282/282 [==============================] - 1s 2ms/step - loss: 0.1771 - accuracy: 0.7381 - val_loss: 0.1761 - val_accuracy: 0.7440\n",
            "Epoch 60/100\n",
            "282/282 [==============================] - 1s 3ms/step - loss: 0.1766 - accuracy: 0.7407 - val_loss: 0.1958 - val_accuracy: 0.7038\n",
            "Epoch 61/100\n",
            "282/282 [==============================] - 1s 3ms/step - loss: 0.1772 - accuracy: 0.7414 - val_loss: 0.1745 - val_accuracy: 0.7402\n",
            "Epoch 62/100\n",
            "282/282 [==============================] - 1s 3ms/step - loss: 0.1767 - accuracy: 0.7372 - val_loss: 0.1769 - val_accuracy: 0.7358\n",
            "Epoch 63/100\n",
            "282/282 [==============================] - 1s 3ms/step - loss: 0.1771 - accuracy: 0.7380 - val_loss: 0.1767 - val_accuracy: 0.7376\n",
            "Epoch 64/100\n",
            "282/282 [==============================] - 1s 3ms/step - loss: 0.1785 - accuracy: 0.7386 - val_loss: 0.1748 - val_accuracy: 0.7414\n",
            "Epoch 65/100\n",
            "282/282 [==============================] - 1s 3ms/step - loss: 0.1770 - accuracy: 0.7401 - val_loss: 0.1761 - val_accuracy: 0.7382\n",
            "Epoch 66/100\n",
            "282/282 [==============================] - 1s 3ms/step - loss: 0.1777 - accuracy: 0.7399 - val_loss: 0.1752 - val_accuracy: 0.7414\n",
            "Epoch 67/100\n",
            "282/282 [==============================] - 2s 7ms/step - loss: 0.1766 - accuracy: 0.7359 - val_loss: 0.1797 - val_accuracy: 0.7378\n",
            "Epoch 68/100\n",
            "282/282 [==============================] - 2s 6ms/step - loss: 0.1763 - accuracy: 0.7359 - val_loss: 0.1796 - val_accuracy: 0.7336\n",
            "Epoch 69/100\n",
            "282/282 [==============================] - 1s 2ms/step - loss: 0.1792 - accuracy: 0.7299 - val_loss: 0.1847 - val_accuracy: 0.7176\n",
            "Epoch 70/100\n",
            "282/282 [==============================] - 1s 2ms/step - loss: 0.1767 - accuracy: 0.7404 - val_loss: 0.1764 - val_accuracy: 0.7412\n",
            "Epoch 71/100\n",
            "282/282 [==============================] - 1s 3ms/step - loss: 0.1761 - accuracy: 0.7390 - val_loss: 0.1856 - val_accuracy: 0.7212\n",
            "Epoch 72/100\n",
            "282/282 [==============================] - 1s 3ms/step - loss: 0.1764 - accuracy: 0.7391 - val_loss: 0.1744 - val_accuracy: 0.7396\n",
            "Epoch 73/100\n",
            "282/282 [==============================] - 1s 4ms/step - loss: 0.1768 - accuracy: 0.7390 - val_loss: 0.1896 - val_accuracy: 0.7124\n",
            "Epoch 74/100\n",
            "282/282 [==============================] - 1s 3ms/step - loss: 0.1781 - accuracy: 0.7323 - val_loss: 0.1843 - val_accuracy: 0.7202\n",
            "Epoch 75/100\n",
            "282/282 [==============================] - 1s 3ms/step - loss: 0.1767 - accuracy: 0.7363 - val_loss: 0.1749 - val_accuracy: 0.7408\n",
            "Epoch 76/100\n",
            "282/282 [==============================] - 1s 3ms/step - loss: 0.1761 - accuracy: 0.7418 - val_loss: 0.1792 - val_accuracy: 0.7356\n",
            "Epoch 77/100\n",
            "282/282 [==============================] - 1s 4ms/step - loss: 0.1746 - accuracy: 0.7412 - val_loss: 0.1753 - val_accuracy: 0.7402\n",
            "Epoch 78/100\n",
            "282/282 [==============================] - 2s 6ms/step - loss: 0.1758 - accuracy: 0.7406 - val_loss: 0.1767 - val_accuracy: 0.7384\n",
            "Epoch 79/100\n",
            "282/282 [==============================] - 1s 3ms/step - loss: 0.1750 - accuracy: 0.7409 - val_loss: 0.1752 - val_accuracy: 0.7376\n",
            "Epoch 80/100\n",
            "282/282 [==============================] - 1s 4ms/step - loss: 0.1752 - accuracy: 0.7408 - val_loss: 0.1753 - val_accuracy: 0.7418\n",
            "Epoch 81/100\n",
            "282/282 [==============================] - 1s 4ms/step - loss: 0.1757 - accuracy: 0.7422 - val_loss: 0.1770 - val_accuracy: 0.7404\n",
            "Epoch 82/100\n",
            "282/282 [==============================] - 1s 5ms/step - loss: 0.1748 - accuracy: 0.7422 - val_loss: 0.1739 - val_accuracy: 0.7410\n",
            "Epoch 83/100\n",
            "282/282 [==============================] - 2s 7ms/step - loss: 0.1765 - accuracy: 0.7434 - val_loss: 0.1745 - val_accuracy: 0.7428\n",
            "Epoch 84/100\n",
            "282/282 [==============================] - 1s 3ms/step - loss: 0.1739 - accuracy: 0.7471 - val_loss: 0.1738 - val_accuracy: 0.7412\n",
            "Epoch 85/100\n",
            "282/282 [==============================] - 1s 3ms/step - loss: 0.1735 - accuracy: 0.7454 - val_loss: 0.1751 - val_accuracy: 0.7412\n",
            "Epoch 86/100\n",
            "282/282 [==============================] - 2s 7ms/step - loss: 0.1744 - accuracy: 0.7440 - val_loss: 0.1759 - val_accuracy: 0.7412\n",
            "Epoch 87/100\n",
            "282/282 [==============================] - 1s 5ms/step - loss: 0.1749 - accuracy: 0.7412 - val_loss: 0.1737 - val_accuracy: 0.7422\n",
            "Epoch 88/100\n",
            "282/282 [==============================] - 1s 3ms/step - loss: 0.1741 - accuracy: 0.7436 - val_loss: 0.1734 - val_accuracy: 0.7412\n",
            "Epoch 89/100\n",
            "282/282 [==============================] - 1s 4ms/step - loss: 0.1744 - accuracy: 0.7391 - val_loss: 0.1740 - val_accuracy: 0.7384\n",
            "Epoch 90/100\n",
            "282/282 [==============================] - 2s 6ms/step - loss: 0.1745 - accuracy: 0.7416 - val_loss: 0.1734 - val_accuracy: 0.7406\n",
            "Epoch 91/100\n",
            "282/282 [==============================] - 1s 3ms/step - loss: 0.1740 - accuracy: 0.7442 - val_loss: 0.1733 - val_accuracy: 0.7430\n",
            "Epoch 92/100\n",
            "282/282 [==============================] - 1s 3ms/step - loss: 0.1742 - accuracy: 0.7408 - val_loss: 0.1736 - val_accuracy: 0.7426\n",
            "Epoch 93/100\n",
            "282/282 [==============================] - 1s 3ms/step - loss: 0.1743 - accuracy: 0.7432 - val_loss: 0.1739 - val_accuracy: 0.7408\n",
            "Epoch 94/100\n",
            "282/282 [==============================] - 1s 3ms/step - loss: 0.1738 - accuracy: 0.7423 - val_loss: 0.1741 - val_accuracy: 0.7418\n",
            "Epoch 95/100\n",
            "282/282 [==============================] - 1s 3ms/step - loss: 0.1741 - accuracy: 0.7412 - val_loss: 0.1739 - val_accuracy: 0.7402\n",
            "Epoch 96/100\n",
            "282/282 [==============================] - 1s 3ms/step - loss: 0.1738 - accuracy: 0.7399 - val_loss: 0.1755 - val_accuracy: 0.7438\n",
            "Epoch 97/100\n",
            "282/282 [==============================] - 1s 3ms/step - loss: 0.1732 - accuracy: 0.7446 - val_loss: 0.1788 - val_accuracy: 0.7328\n",
            "Epoch 98/100\n",
            "282/282 [==============================] - 1s 3ms/step - loss: 0.1733 - accuracy: 0.7403 - val_loss: 0.1739 - val_accuracy: 0.7426\n",
            "Epoch 99/100\n",
            "282/282 [==============================] - 1s 3ms/step - loss: 0.1749 - accuracy: 0.7408 - val_loss: 0.1828 - val_accuracy: 0.7234\n",
            "Epoch 100/100\n",
            "282/282 [==============================] - 1s 3ms/step - loss: 0.1726 - accuracy: 0.7463 - val_loss: 0.1758 - val_accuracy: 0.7370\n"
          ]
        },
        {
          "output_type": "execute_result",
          "data": {
            "text/plain": [
              "<keras.src.callbacks.History at 0x7c26aa72f820>"
            ]
          },
          "metadata": {},
          "execution_count": 42
        }
      ]
    },
    {
      "cell_type": "code",
      "source": [
        "proba = model.predict(X_test[:4])\n",
        "proba.round(2)"
      ],
      "metadata": {
        "colab": {
          "base_uri": "https://localhost:8080/"
        },
        "id": "X2TbCq7qZRbr",
        "outputId": "a00c805c-0559-4857-f36e-965958185334"
      },
      "execution_count": 43,
      "outputs": [
        {
          "output_type": "stream",
          "name": "stdout",
          "text": [
            "1/1 [==============================] - 0s 158ms/step\n"
          ]
        },
        {
          "output_type": "execute_result",
          "data": {
            "text/plain": [
              "array([[0.46],\n",
              "       [0.2 ],\n",
              "       [0.9 ],\n",
              "       [0.53]], dtype=float32)"
            ]
          },
          "metadata": {},
          "execution_count": 43
        }
      ]
    },
    {
      "cell_type": "code",
      "source": [
        "results = model.evaluate(X_test, y_test)\n",
        "print(f\"Test loss: {results[0]}, Test accuracy:{results[1]}\")"
      ],
      "metadata": {
        "colab": {
          "base_uri": "https://localhost:8080/"
        },
        "id": "0uuuRikkZUQz",
        "outputId": "ece4a414-a0ef-46f8-c019-49cb91e5f6fa"
      },
      "execution_count": 44,
      "outputs": [
        {
          "output_type": "stream",
          "name": "stdout",
          "text": [
            "321/321 [==============================] - 1s 2ms/step - loss: 0.1813 - accuracy: 0.7291\n",
            "Test loss: 0.18132776021957397, Test accuracy:0.7290832996368408\n"
          ]
        }
      ]
    },
    {
      "cell_type": "code",
      "source": [
        "model = keras.models.Sequential([\n",
        "    keras.layers.Dense(300, activation=\"relu\"),\n",
        "    keras.layers.Dense(100, activation=\"relu\"),\n",
        "    keras.layers.Dense(10, activation=\"softmax\")\n",
        "])\n",
        "\n",
        "model.compile(loss=\"sparse_categorical_crossentropy\", optimizer=\"sgd\", metrics=[\"accuracy\"])\n",
        "\n",
        "history = model.fit(X_train_2, y_train_2, epochs=30, validation_data=(X_valid, y_valid))"
      ],
      "metadata": {
        "colab": {
          "base_uri": "https://localhost:8080/"
        },
        "id": "fKNUtDWNZWsV",
        "outputId": "050dfb3a-66f7-49cd-e01f-43cd430b7b39"
      },
      "execution_count": 45,
      "outputs": [
        {
          "output_type": "stream",
          "name": "stdout",
          "text": [
            "Epoch 1/30\n",
            "125/125 [==============================] - 1s 6ms/step - loss: 1.8870 - accuracy: 0.6097 - val_loss: 0.6437 - val_accuracy: 0.6542\n",
            "Epoch 2/30\n",
            "125/125 [==============================] - 0s 4ms/step - loss: 0.6535 - accuracy: 0.6453 - val_loss: 0.6133 - val_accuracy: 0.6734\n",
            "Epoch 3/30\n",
            "125/125 [==============================] - 1s 5ms/step - loss: 0.6427 - accuracy: 0.6532 - val_loss: 0.6342 - val_accuracy: 0.6562\n",
            "Epoch 4/30\n",
            "125/125 [==============================] - 0s 4ms/step - loss: 0.6311 - accuracy: 0.6522 - val_loss: 0.6166 - val_accuracy: 0.6626\n",
            "Epoch 5/30\n",
            "125/125 [==============================] - 1s 4ms/step - loss: 0.6250 - accuracy: 0.6610 - val_loss: 0.5988 - val_accuracy: 0.6896\n",
            "Epoch 6/30\n",
            "125/125 [==============================] - 0s 4ms/step - loss: 0.6228 - accuracy: 0.6653 - val_loss: 0.6296 - val_accuracy: 0.6458\n",
            "Epoch 7/30\n",
            "125/125 [==============================] - 1s 5ms/step - loss: 0.6096 - accuracy: 0.6865 - val_loss: 0.5955 - val_accuracy: 0.6868\n",
            "Epoch 8/30\n",
            "125/125 [==============================] - 0s 4ms/step - loss: 0.6008 - accuracy: 0.6883 - val_loss: 0.5957 - val_accuracy: 0.6854\n",
            "Epoch 9/30\n",
            "125/125 [==============================] - 0s 4ms/step - loss: 0.6061 - accuracy: 0.6740 - val_loss: 0.6118 - val_accuracy: 0.6682\n",
            "Epoch 10/30\n",
            "125/125 [==============================] - 1s 5ms/step - loss: 0.6030 - accuracy: 0.6758 - val_loss: 0.6571 - val_accuracy: 0.6076\n",
            "Epoch 11/30\n",
            "125/125 [==============================] - 0s 4ms/step - loss: 0.5989 - accuracy: 0.6862 - val_loss: 0.7536 - val_accuracy: 0.5114\n",
            "Epoch 12/30\n",
            "125/125 [==============================] - 0s 4ms/step - loss: 0.5970 - accuracy: 0.6852 - val_loss: 0.5928 - val_accuracy: 0.6884\n",
            "Epoch 13/30\n",
            "125/125 [==============================] - 1s 4ms/step - loss: 0.5980 - accuracy: 0.6892 - val_loss: 0.5935 - val_accuracy: 0.6850\n",
            "Epoch 14/30\n",
            "125/125 [==============================] - 1s 5ms/step - loss: 0.5908 - accuracy: 0.6948 - val_loss: 0.6333 - val_accuracy: 0.6578\n",
            "Epoch 15/30\n",
            "125/125 [==============================] - 0s 4ms/step - loss: 0.5893 - accuracy: 0.6880 - val_loss: 0.5864 - val_accuracy: 0.6928\n",
            "Epoch 16/30\n",
            "125/125 [==============================] - 0s 4ms/step - loss: 0.5917 - accuracy: 0.6920 - val_loss: 0.5891 - val_accuracy: 0.6814\n",
            "Epoch 17/30\n",
            "125/125 [==============================] - 1s 5ms/step - loss: 0.5872 - accuracy: 0.6915 - val_loss: 0.5773 - val_accuracy: 0.6918\n",
            "Epoch 18/30\n",
            "125/125 [==============================] - 0s 4ms/step - loss: 0.5867 - accuracy: 0.6885 - val_loss: 0.5766 - val_accuracy: 0.6926\n",
            "Epoch 19/30\n",
            "125/125 [==============================] - 1s 5ms/step - loss: 0.5893 - accuracy: 0.6867 - val_loss: 0.5761 - val_accuracy: 0.7010\n",
            "Epoch 20/30\n",
            "125/125 [==============================] - 1s 5ms/step - loss: 0.5874 - accuracy: 0.6945 - val_loss: 0.5958 - val_accuracy: 0.6792\n",
            "Epoch 21/30\n",
            "125/125 [==============================] - 1s 8ms/step - loss: 0.5819 - accuracy: 0.6865 - val_loss: 0.5864 - val_accuracy: 0.6878\n",
            "Epoch 22/30\n",
            "125/125 [==============================] - 1s 6ms/step - loss: 0.5817 - accuracy: 0.6992 - val_loss: 0.5778 - val_accuracy: 0.6978\n",
            "Epoch 23/30\n",
            "125/125 [==============================] - 0s 4ms/step - loss: 0.5742 - accuracy: 0.7023 - val_loss: 0.5720 - val_accuracy: 0.6966\n",
            "Epoch 24/30\n",
            "125/125 [==============================] - 1s 5ms/step - loss: 0.5821 - accuracy: 0.6960 - val_loss: 0.5910 - val_accuracy: 0.6788\n",
            "Epoch 25/30\n",
            "125/125 [==============================] - 1s 5ms/step - loss: 0.5787 - accuracy: 0.6952 - val_loss: 0.5736 - val_accuracy: 0.6986\n",
            "Epoch 26/30\n",
            "125/125 [==============================] - 1s 5ms/step - loss: 0.5793 - accuracy: 0.6992 - val_loss: 0.5862 - val_accuracy: 0.6872\n",
            "Epoch 27/30\n",
            "125/125 [==============================] - 1s 4ms/step - loss: 0.5783 - accuracy: 0.7007 - val_loss: 0.6313 - val_accuracy: 0.6434\n",
            "Epoch 28/30\n",
            "125/125 [==============================] - 0s 4ms/step - loss: 0.5793 - accuracy: 0.6980 - val_loss: 0.5717 - val_accuracy: 0.7036\n",
            "Epoch 29/30\n",
            "125/125 [==============================] - 0s 4ms/step - loss: 0.5770 - accuracy: 0.6988 - val_loss: 0.5732 - val_accuracy: 0.6978\n",
            "Epoch 30/30\n",
            "125/125 [==============================] - 1s 5ms/step - loss: 0.5694 - accuracy: 0.7013 - val_loss: 0.5900 - val_accuracy: 0.6918\n"
          ]
        }
      ]
    },
    {
      "cell_type": "code",
      "source": [
        "proba = model.predict(X_test[:4])\n",
        "proba.round(2)"
      ],
      "metadata": {
        "colab": {
          "base_uri": "https://localhost:8080/"
        },
        "id": "vKb0OciGZgZZ",
        "outputId": "34debe92-0288-4c2e-9dfe-e90429f02457"
      },
      "execution_count": 46,
      "outputs": [
        {
          "output_type": "stream",
          "name": "stdout",
          "text": [
            "1/1 [==============================] - 0s 58ms/step\n"
          ]
        },
        {
          "output_type": "execute_result",
          "data": {
            "text/plain": [
              "array([[0.6 , 0.4 , 0.  , 0.  , 0.  , 0.  , 0.  , 0.  , 0.  , 0.  ],\n",
              "       [0.88, 0.12, 0.  , 0.  , 0.  , 0.  , 0.  , 0.  , 0.  , 0.  ],\n",
              "       [0.45, 0.55, 0.  , 0.  , 0.  , 0.  , 0.  , 0.  , 0.  , 0.  ],\n",
              "       [0.48, 0.52, 0.  , 0.  , 0.  , 0.  , 0.  , 0.  , 0.  , 0.  ]],\n",
              "      dtype=float32)"
            ]
          },
          "metadata": {},
          "execution_count": 46
        }
      ]
    },
    {
      "cell_type": "code",
      "source": [
        "y_pred = np.argmax(model.predict(X_test[:4]), axis=-1)\n",
        "y_pred"
      ],
      "metadata": {
        "colab": {
          "base_uri": "https://localhost:8080/"
        },
        "id": "b0uV9A3dZhyz",
        "outputId": "8baaff6c-d18b-4f25-9971-4fa4dfbfb030"
      },
      "execution_count": 47,
      "outputs": [
        {
          "output_type": "stream",
          "name": "stdout",
          "text": [
            "1/1 [==============================] - 0s 21ms/step\n"
          ]
        },
        {
          "output_type": "execute_result",
          "data": {
            "text/plain": [
              "array([0, 0, 1, 1])"
            ]
          },
          "metadata": {},
          "execution_count": 47
        }
      ]
    },
    {
      "cell_type": "code",
      "source": [
        "y_test[:4]"
      ],
      "metadata": {
        "colab": {
          "base_uri": "https://localhost:8080/"
        },
        "id": "1NffYCZLZi4o",
        "outputId": "e1564910-6050-48c7-901e-beed4f278ef3"
      },
      "execution_count": 48,
      "outputs": [
        {
          "output_type": "execute_result",
          "data": {
            "text/plain": [
              "array([0, 0, 1, 1])"
            ]
          },
          "metadata": {},
          "execution_count": 48
        }
      ]
    },
    {
      "cell_type": "code",
      "source": [
        "y_test[:4] == y_pred"
      ],
      "metadata": {
        "colab": {
          "base_uri": "https://localhost:8080/"
        },
        "id": "OyxtiFvZZkO_",
        "outputId": "2f168b4b-54b0-4bf5-af28-0194a6438b65"
      },
      "execution_count": 49,
      "outputs": [
        {
          "output_type": "execute_result",
          "data": {
            "text/plain": [
              "array([ True,  True,  True,  True])"
            ]
          },
          "metadata": {},
          "execution_count": 49
        }
      ]
    },
    {
      "cell_type": "code",
      "source": [
        "results = model.evaluate(X_test, y_test)\n",
        "print(f\"Test loss: {results[0]}, Test accuracy:{results[1]}\")"
      ],
      "metadata": {
        "colab": {
          "base_uri": "https://localhost:8080/"
        },
        "id": "0j_G5r6xZlha",
        "outputId": "7ab35eb8-9cd1-41b0-85c9-3b6642bcd270"
      },
      "execution_count": 50,
      "outputs": [
        {
          "output_type": "stream",
          "name": "stdout",
          "text": [
            "321/321 [==============================] - 1s 2ms/step - loss: 0.5898 - accuracy: 0.6921\n",
            "Test loss: 0.5898317098617554, Test accuracy:0.692082405090332\n"
          ]
        }
      ]
    }
  ]
}