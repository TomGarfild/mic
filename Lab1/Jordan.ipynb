{
 "cells": [
  {
   "cell_type": "markdown",
   "id": "565ab59f-2724-431a-8486-8e0658cf8997",
   "metadata": {},
   "source": [
    "# Йорданія"
   ]
  },
  {
   "cell_type": "markdown",
   "id": "08c5850e-6adb-4a3f-ae24-b5beaa7bd797",
   "metadata": {},
   "source": [
    "## Столиця\n",
    "#### <span style=\"color:green;\">Аман</span>"
   ]
  },
  {
   "cell_type": "code",
   "execution_count": 3,
   "id": "99848727-eb8a-4510-bc39-5617e56865d6",
   "metadata": {
    "tags": []
   },
   "outputs": [
    {
     "data": {
      "text/html": [
       "<svg xmlns=\"http://www.w3.org/2000/svg\" width=\"600\" height=\"300\" viewBox=\"0 0 10080 5040\">\n",
       "    <title>Flag of Jordan</title>\n",
       "    <path fill=\"#fff\" d=\"m0 0h10080v5040H0z\"/>\n",
       "    <path d=\"m0 0h10080v1680H0z\"/>\n",
       "    <path fill=\"#007a3d\" d=\"m0 3360h10080v1680H0z\"/>\n",
       "    <path fill=\"#ce1126\" d=\"m5040 2520L0 5040V0m1557 2160-78 198-203-62 106 184-176 120 211 32-16 212 156-144 157 144-16-212 210-32-175-120 106-184-203 62z\"/>\n",
       "</svg>\n"
      ],
      "text/plain": [
       "<IPython.core.display.HTML object>"
      ]
     },
     "metadata": {},
     "output_type": "display_data"
    }
   ],
   "source": [
    "%%HTML\n",
    "<svg xmlns=\"http://www.w3.org/2000/svg\" width=\"600\" height=\"300\" viewBox=\"0 0 10080 5040\">\n",
    "    <title>Flag of Jordan</title>\n",
    "    <path fill=\"#fff\" d=\"m0 0h10080v5040H0z\"/>\n",
    "    <path d=\"m0 0h10080v1680H0z\"/>\n",
    "    <path fill=\"#007a3d\" d=\"m0 3360h10080v1680H0z\"/>\n",
    "    <path fill=\"#ce1126\" d=\"m5040 2520L0 5040V0m1557 2160-78 198-203-62 106 184-176 120 211 32-16 212 156-144 157 144-16-212 210-32-175-120 106-184-203 62z\"/>\n",
    "</svg>"
   ]
  },
  {
   "cell_type": "markdown",
   "id": "a2c33c15-3872-4c5c-b27a-2d255d1c4fa0",
   "metadata": {},
   "source": [
    "## Основні характеристики\n",
    "- **Площа:** <div style=\"border: 1px solid black; padding: 10px;\"> 89,342 км² </div>\n",
    "- **Населення:**\n",
    "> 10,203,134 (станом на 2022 рік)"
   ]
  },
  {
   "cell_type": "markdown",
   "id": "94c39f1b-da17-4ded-8556-c4c112519660",
   "metadata": {},
   "source": [
    "## Державний устрій\n",
    "- *Тип:* Конституційна монархія\n",
    "- *Монарх:* Король Абдалла II"
   ]
  },
  {
   "cell_type": "markdown",
   "id": "01392c2c-f23f-4572-acc3-7ec9a570702b",
   "metadata": {},
   "source": [
    "## Видатні Персоналії\n",
    "1. *Король Абдаллах II:* Сучасний монарх, відомий своєю активною роллю в політиці та міжнародних відносинах.\n",
    "2. *Квін Ранія:* Королева-консорт, відома своєю активною участю в гуманітарних і соціальних ініціативах."
   ]
  },
  {
   "cell_type": "markdown",
   "id": "42f7a987-a7e2-4056-914f-4fd3d49a2fc9",
   "metadata": {},
   "source": [
    "## Пам'ятки Культури та Природи\n",
    "- **Культурні пам'ятки:**\n",
    "  - Амманський амфітеатр\n",
    "  - Міст Джераш\n",
    "- **Природні чудеса:**\n",
    "  - Долина Йордану\n",
    "  - Археологічний парк Петра\n",
    "  - Гора Нево"
   ]
  },
  {
   "cell_type": "markdown",
   "id": "475bcb22-28bb-4e9e-88ab-074453c5d384",
   "metadata": {},
   "source": [
    "### Амфітеатер\n",
    "![Амманський амфітеатр](https://dynamic-media-cdn.tripadvisor.com/media/photo-o/27/e6/ea/ea/caption.jpg?w=300&h=300&s=1)"
   ]
  },
  {
   "cell_type": "markdown",
   "id": "4ed71c74-beab-4d56-9ce3-d0e8d0a51bbe",
   "metadata": {},
   "source": [
    "### Гора Нево\n",
    "<img src=\"https://igoogledjordan.com/wp-content/uploads/2018/08/Jordan-mountnebo_bs-1024x683.jpg\" alt=\"Гора нево\" width=\"300\" height=\"200\">"
   ]
  },
  {
   "cell_type": "markdown",
   "id": "1d6c6f93-f419-4a6a-ba05-7071b4b97781",
   "metadata": {},
   "source": [
    "## Таблиця: Населення по роках\n",
    "| Рік | Населення   |\n",
    "|-----|-------------|\n",
    "| 2000| 5,100,000   |\n",
    "| 2010| 6,400,000   |\n",
    "| 2020| 9,200,000   |"
   ]
  },
  {
   "cell_type": "markdown",
   "id": "4e2d63c7-0c11-4ecb-8a58-b849184c82e1",
   "metadata": {},
   "source": [
    "##### Додаткова інформація\n",
    "[Йорданія](https://uk.wikipedia.org/wiki/%D0%99%D0%BE%D1%80%D0%B4%D0%B0%D0%BD%D1%96%D1%8F)"
   ]
  }
 ],
 "metadata": {
  "kernelspec": {
   "display_name": "anaconda-panel-2023.05-py310",
   "language": "python",
   "name": "conda-env-anaconda-panel-2023.05-py310-py"
  },
  "language_info": {
   "codemirror_mode": {
    "name": "ipython",
    "version": 3
   },
   "file_extension": ".py",
   "mimetype": "text/x-python",
   "name": "python",
   "nbconvert_exporter": "python",
   "pygments_lexer": "ipython3",
   "version": "3.11.5"
  }
 },
 "nbformat": 4,
 "nbformat_minor": 5
}
