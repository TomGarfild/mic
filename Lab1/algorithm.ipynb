{
 "cells": [
  {
   "cell_type": "code",
   "execution_count": 3,
   "id": "91e3318e-9af3-4f1c-a1d6-3549613f83dd",
   "metadata": {},
   "outputs": [],
   "source": [
    "def is_prime(n):\n",
    "    if n < 2:\n",
    "        return False\n",
    "    return all(n % i != 0 for i in range(2, int(n**0.5) + 1))\n",
    "\n",
    "def task_6():\n",
    "    a, b = map(int, input(\"Enter the range (space-separated): \").split())\n",
    "    \n",
    "    if a < 0 or b < 0:\n",
    "            print(\"Please enter non-negative integers.\")\n",
    "            return []\n",
    "\n",
    "    if a > b:\n",
    "            print(\"The start of the range should be less than or equal to the end.\")\n",
    "            return []\n",
    "    \n",
    "    prime_numbers = [num for num in range(a, b + 1) if is_prime(num)]\n",
    "    \n",
    "    return prime_numbers\n"
   ]
  },
  {
   "cell_type": "code",
   "execution_count": 3,
   "id": "8e7fb687-8c7b-4051-acef-749a2ab75559",
   "metadata": {},
   "outputs": [
    {
     "name": "stdin",
     "output_type": "stream",
     "text": [
      "Enter the range (space-separated):  3 15\n"
     ]
    },
    {
     "data": {
      "text/plain": [
       "[3, 5, 7, 11, 13]"
      ]
     },
     "execution_count": 3,
     "metadata": {},
     "output_type": "execute_result"
    }
   ],
   "source": [
    "task_6()"
   ]
  },
  {
   "cell_type": "code",
   "execution_count": 5,
   "id": "81f9d4d8-b41b-4599-8521-181fea918343",
   "metadata": {},
   "outputs": [
    {
     "name": "stdin",
     "output_type": "stream",
     "text": [
      "Enter the range (space-separated):  6 24\n"
     ]
    },
    {
     "data": {
      "text/plain": [
       "[7, 11, 13, 17, 19, 23]"
      ]
     },
     "execution_count": 5,
     "metadata": {},
     "output_type": "execute_result"
    }
   ],
   "source": [
    "task_6()"
   ]
  },
  {
   "cell_type": "code",
   "execution_count": 5,
   "id": "bad955fe-957c-4a7e-99bc-e68783ee1be0",
   "metadata": {},
   "outputs": [
    {
     "name": "stdin",
     "output_type": "stream",
     "text": [
      "Enter the range (space-separated):  6 5\n"
     ]
    },
    {
     "name": "stdout",
     "output_type": "stream",
     "text": [
      "The start of the range should be less than or equal to the end.\n"
     ]
    },
    {
     "data": {
      "text/plain": [
       "[]"
      ]
     },
     "execution_count": 5,
     "metadata": {},
     "output_type": "execute_result"
    }
   ],
   "source": [
    "task_6()"
   ]
  },
  {
   "cell_type": "code",
   "execution_count": 7,
   "id": "4fd4d7bd-289a-4988-8981-2b9a4bc367ff",
   "metadata": {},
   "outputs": [
    {
     "name": "stdin",
     "output_type": "stream",
     "text": [
      "Enter the range (space-separated):  -2 -1\n"
     ]
    },
    {
     "name": "stdout",
     "output_type": "stream",
     "text": [
      "Please enter non-negative integers.\n"
     ]
    },
    {
     "data": {
      "text/plain": [
       "[]"
      ]
     },
     "execution_count": 7,
     "metadata": {},
     "output_type": "execute_result"
    }
   ],
   "source": [
    "task_6()"
   ]
  },
  {
   "cell_type": "code",
   "execution_count": null,
   "id": "c601f273-3d71-4512-a41b-c064bffa06fd",
   "metadata": {},
   "outputs": [],
   "source": []
  }
 ],
 "metadata": {
  "kernelspec": {
   "display_name": "anaconda-panel-2023.05-py310",
   "language": "python",
   "name": "conda-env-anaconda-panel-2023.05-py310-py"
  },
  "language_info": {
   "codemirror_mode": {
    "name": "ipython",
    "version": 3
   },
   "file_extension": ".py",
   "mimetype": "text/x-python",
   "name": "python",
   "nbconvert_exporter": "python",
   "pygments_lexer": "ipython3",
   "version": "3.11.5"
  }
 },
 "nbformat": 4,
 "nbformat_minor": 5
}
