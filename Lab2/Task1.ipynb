{
 "cells": [
  {
   "cell_type": "markdown",
   "id": "5b83e5a2-0f67-4942-8d99-dc6d6ddc960a",
   "metadata": {},
   "source": [
    "## Variant 6\n",
    "Task: 1, 3, 4, 6, 10, 12, 15, 17, 18"
   ]
  },
  {
   "cell_type": "code",
   "execution_count": 16,
   "id": "ee69cc12-700d-4129-a7be-e79534b9adbc",
   "metadata": {},
   "outputs": [],
   "source": [
    "import numpy as np\n",
    "import time\n",
    "import random"
   ]
  },
  {
   "cell_type": "markdown",
   "id": "f8e41d3c-a8ba-4a5f-95e5-2c282899985c",
   "metadata": {},
   "source": [
    "1. Вводиться число n. Вивести масив розміру n×n, в\n",
    "якому по діагоналі йдуть числа від 1 до n, а інші числа дорівнюють 0."
   ]
  },
  {
   "cell_type": "code",
   "execution_count": 38,
   "id": "20621929-2189-4b6f-a610-ac8346c3c5f2",
   "metadata": {},
   "outputs": [],
   "source": [
    "def create_diagonal_matrix(n):\n",
    "    start_time = time.time()\n",
    "\n",
    "    matrix = np.zeros((n, n), dtype=int)\n",
    "    np.fill_diagonal(matrix, np.arange(1, n + 1))\n",
    "\n",
    "    return matrix, time.time() - start_time\n",
    "\n",
    "def create_diagonal_matrix_no_numpy(n):\n",
    "\n",
    "    start_time = time.time()\n",
    "\n",
    "    matrix = [[0 for _ in range(n)] for _ in range(n)]\n",
    "    for i in range(n):\n",
    "        matrix[i][i] = i + 1\n",
    "\n",
    "    return matrix, time.time() - start_time\n",
    "\n",
    "def task_1():\n",
    "    n = int(input(\"Enter a number: \"))\n",
    "\n",
    "    matrix, time_numpy = create_diagonal_matrix(n)\n",
    "\n",
    "    print(f\"Execution time with NumPy: {time_numpy:.6f}s\")\n",
    "    if n <= 10:\n",
    "        print(matrix)\n",
    "\n",
    "    matrix, time_no_numpy = create_diagonal_matrix_no_numpy(n)\n",
    "\n",
    "    print(f\"Execution time without NumPy: {time_no_numpy:.6f}s\")\n",
    "    if n <= 10:\n",
    "        print(matrix)"
   ]
  },
  {
   "cell_type": "code",
   "execution_count": 60,
   "id": "bbc82b57-dffb-4f08-a53a-4e4f6350be9d",
   "metadata": {},
   "outputs": [
    {
     "name": "stdin",
     "output_type": "stream",
     "text": [
      "Enter a number:  5\n"
     ]
    },
    {
     "name": "stdout",
     "output_type": "stream",
     "text": [
      "Execution time with NumPy: 0.000034s\n",
      "[[1 0 0 0 0]\n",
      " [0 2 0 0 0]\n",
      " [0 0 3 0 0]\n",
      " [0 0 0 4 0]\n",
      " [0 0 0 0 5]]\n",
      "Execution time without NumPy: 0.000006s\n",
      "[[1, 0, 0, 0, 0], [0, 2, 0, 0, 0], [0, 0, 3, 0, 0], [0, 0, 0, 4, 0], [0, 0, 0, 0, 5]]\n"
     ]
    }
   ],
   "source": [
    "task_1()"
   ]
  },
  {
   "cell_type": "code",
   "execution_count": 44,
   "id": "00bdfd64-a3d9-4df0-bd66-e18cf10044a7",
   "metadata": {},
   "outputs": [
    {
     "name": "stdin",
     "output_type": "stream",
     "text": [
      "Enter a number:  10000\n"
     ]
    },
    {
     "name": "stdout",
     "output_type": "stream",
     "text": [
      "Execution time with NumPy: 0.021120s\n",
      "Execution time without NumPy: 3.380005s\n"
     ]
    }
   ],
   "source": [
    "task_1()"
   ]
  },
  {
   "cell_type": "markdown",
   "id": "f20a7692-06e8-4a4b-992f-79f1a52d111f",
   "metadata": {},
   "source": [
    "3. Вводяться 4 числа n, m, r, c. Вивести масив розміру n×m, в якому в кожному рядку з номером r і в кожному стовпчику з номером c стоять 0, а інші елементи дорівнюють 1."
   ]
  },
  {
   "cell_type": "code",
   "execution_count": 54,
   "id": "8bdae1d1-259e-40c1-b73c-71d9c987e438",
   "metadata": {},
   "outputs": [],
   "source": [
    "def create_matrix_with_zeros(n, m, r, c):\n",
    "    start_time = time.time()\n",
    "\n",
    "    matrix = np.ones((n, m), dtype=int)\n",
    "    matrix[r, :] = 0\n",
    "    matrix[:, c] = 0\n",
    "\n",
    "    return matrix, time.time() - start_time\n",
    "\n",
    "def create_matrix_with_zeros_no_numpy(n, m, r, c):\n",
    "    start_time = time.time()\n",
    "\n",
    "    matrix = [[1 for _ in range(m)] for _ in range(n)]\n",
    "    for i in range(n):\n",
    "        matrix[i][c] = 0\n",
    "    for j in range(m):\n",
    "        matrix[r][j] = 0\n",
    "\n",
    "    return matrix, time.time() - start_time\n",
    "\n",
    "def task_3():\n",
    "    n, m, r, c = map(int, input(\"Enter n, m, r, c (space-separated): \").split())\n",
    "    matrix, time_numpy = create_matrix_with_zeros(n, m, r, c)\n",
    "\n",
    "    print(f\"Execution time with NumPy: {time_numpy:.6f}s\")\n",
    "    if n <= 10 and m <= 10:\n",
    "        print(matrix)\n",
    "\n",
    "    matrix, time_no_numpy = create_matrix_with_zeros_no_numpy(n, m, r, c)\n",
    "\n",
    "    print(f\"Execution time without NumPy: {time_no_numpy:.6f}s\")\n",
    "    if n <= 10 and m <= 10:\n",
    "        print(matrix)"
   ]
  },
  {
   "cell_type": "code",
   "execution_count": 62,
   "id": "deb6b815-597d-4e75-9842-7fbb99897eca",
   "metadata": {},
   "outputs": [
    {
     "name": "stdin",
     "output_type": "stream",
     "text": [
      "Enter n, m, r, c (space-separated):  6 7 2 3\n"
     ]
    },
    {
     "name": "stdout",
     "output_type": "stream",
     "text": [
      "Execution time with NumPy: 0.000038s\n",
      "[[1 1 1 0 1 1 1]\n",
      " [1 1 1 0 1 1 1]\n",
      " [0 0 0 0 0 0 0]\n",
      " [1 1 1 0 1 1 1]\n",
      " [1 1 1 0 1 1 1]\n",
      " [1 1 1 0 1 1 1]]\n",
      "Execution time without NumPy: 0.000007s\n",
      "[[1, 1, 1, 0, 1, 1, 1], [1, 1, 1, 0, 1, 1, 1], [0, 0, 0, 0, 0, 0, 0], [1, 1, 1, 0, 1, 1, 1], [1, 1, 1, 0, 1, 1, 1], [1, 1, 1, 0, 1, 1, 1]]\n"
     ]
    }
   ],
   "source": [
    "task_3()"
   ]
  },
  {
   "cell_type": "code",
   "execution_count": 64,
   "id": "3ea2c776-2f64-41d6-a40c-8f34bbd75850",
   "metadata": {},
   "outputs": [
    {
     "name": "stdin",
     "output_type": "stream",
     "text": [
      "Enter n, m, r, c (space-separated):  10000 10000 420 6969\n"
     ]
    },
    {
     "name": "stdout",
     "output_type": "stream",
     "text": [
      "Execution time with NumPy: 1.183957s\n",
      "Execution time without NumPy: 3.859102s\n"
     ]
    }
   ],
   "source": [
    "task_3()"
   ]
  },
  {
   "cell_type": "markdown",
   "id": "4035265b-b46d-47c0-85d9-8d6ffa0ca3d3",
   "metadata": {},
   "source": [
    "4. Вводяться числа n і m. Вивести масив розміру n×m, в якому у першому рядку (рядок з нулевим індексом) йдуть числа від 0 до m–1, а всі інші елементи матриці дорівнюють 0."
   ]
  },
  {
   "cell_type": "code",
   "execution_count": 73,
   "id": "081b6b57-0a27-41e0-89c4-15829f5c1e83",
   "metadata": {},
   "outputs": [],
   "source": [
    "def create_matrix_with_first_row_filled(n, m):\n",
    "    start_time = time.time()\n",
    "\n",
    "    matrix = np.zeros((n, m), dtype=int)\n",
    "    matrix[0, :] = np.arange(m)\n",
    "\n",
    "    return matrix, time.time() - start_time\n",
    "\n",
    "def create_matrix_with_first_row_filled_no_numpy(n, m):\n",
    "    start_time = time.time()\n",
    "\n",
    "    matrix = [[0 for _ in range(m)] for _ in range(n)]\n",
    "    for i in range(m):\n",
    "        matrix[0][i] = i\n",
    "\n",
    "    return matrix, time.time() - start_time\n",
    "\n",
    "def task_4():\n",
    "    n, m = map(int, input(\"Enter n, m (space-separated): \").split())\n",
    "    matrix, time_numpy = create_matrix_with_first_row_filled(n, m)\n",
    "\n",
    "    print(f\"Execution time with NumPy: {time_numpy:.6f}s\")\n",
    "    if n <= 10 and m <= 10:\n",
    "        print(matrix)\n",
    "\n",
    "    matrix, time_no_numpy = create_matrix_with_first_row_filled_no_numpy(n, m)\n",
    "\n",
    "    print(f\"Execution time without NumPy: {time_no_numpy:.6f}s\")\n",
    "    if n <= 10 and m <= 10:\n",
    "        print(matrix)"
   ]
  },
  {
   "cell_type": "code",
   "execution_count": 75,
   "id": "7195658f-db39-4995-82cd-f0e95db2ee56",
   "metadata": {},
   "outputs": [
    {
     "name": "stdin",
     "output_type": "stream",
     "text": [
      "Enter n, m (space-separated):  3 4\n"
     ]
    },
    {
     "name": "stdout",
     "output_type": "stream",
     "text": [
      "Execution time with NumPy: 0.000026s\n",
      "[[0 1 2 3]\n",
      " [0 0 0 0]\n",
      " [0 0 0 0]]\n",
      "Execution time without NumPy: 0.000007s\n",
      "[[0, 1, 2, 3], [0, 0, 0, 0], [0, 0, 0, 0]]\n"
     ]
    }
   ],
   "source": [
    "task_4()"
   ]
  },
  {
   "cell_type": "code",
   "execution_count": 77,
   "id": "e49156a5-f20a-40da-8b6b-0a87b6d29e19",
   "metadata": {},
   "outputs": [
    {
     "name": "stdin",
     "output_type": "stream",
     "text": [
      "Enter n, m (space-separated):  10000 9999\n"
     ]
    },
    {
     "name": "stdout",
     "output_type": "stream",
     "text": [
      "Execution time with NumPy: 0.000130s\n",
      "Execution time without NumPy: 3.853938s\n"
     ]
    }
   ],
   "source": [
    "task_4()"
   ]
  },
  {
   "cell_type": "markdown",
   "id": "bd93b293-edbc-4977-8c0b-b4eb38ef956b",
   "metadata": {},
   "source": [
    "6. З клавіатури вводиться масив. Замінити всі ненульові елементи на –1."
   ]
  },
  {
   "cell_type": "code",
   "execution_count": 87,
   "id": "496c48b0-2d22-4069-ba47-7650ea284d55",
   "metadata": {},
   "outputs": [],
   "source": [
    "def replace_non_zero_elements(array):\n",
    "    start_time = time.time()\n",
    "\n",
    "    array[array != 0] = -1\n",
    "\n",
    "    return array, time.time() - start_time\n",
    "\n",
    "def replace_non_zero_elements_no_numpy(array):\n",
    "    start_time = time.time()\n",
    "\n",
    "    for i in range(len(array)):\n",
    "            if array[i] != 0:\n",
    "                array[i] = -1\n",
    "\n",
    "    return array, time.time() - start_time\n",
    "\n",
    "def task_6():\n",
    "    arr = list(map(int, input(\"Enter the array elements separated by spaces: \").split()))\n",
    "    \n",
    "    array, time_numpy = replace_non_zero_elements(np.array(arr))\n",
    "\n",
    "    print(f\"Execution time with NumPy: {time_numpy:.6f}s\")\n",
    "    print(array)\n",
    "\n",
    "    array, time_no_numpy = replace_non_zero_elements_no_numpy(arr)\n",
    "\n",
    "    print(f\"Execution time without NumPy: {time_no_numpy:.6f}s\")\n",
    "    print(array)"
   ]
  },
  {
   "cell_type": "code",
   "execution_count": 89,
   "id": "d0e5012f-66da-4643-8caa-2962cac98445",
   "metadata": {},
   "outputs": [
    {
     "name": "stdin",
     "output_type": "stream",
     "text": [
      "Enter the array elements separated by spaces:  1 2 3 0 4 -3 0 -650 0 20 4 0 0 0 6 0 6 0\n"
     ]
    },
    {
     "name": "stdout",
     "output_type": "stream",
     "text": [
      "Execution time with NumPy: 0.000026s\n",
      "[-1 -1 -1  0 -1 -1  0 -1  0 -1 -1  0  0  0 -1  0 -1  0]\n",
      "Execution time without NumPy: 0.000006s\n",
      "[-1, -1, -1, 0, -1, -1, 0, -1, 0, -1, -1, 0, 0, 0, -1, 0, -1, 0]\n"
     ]
    }
   ],
   "source": [
    "task_6()"
   ]
  },
  {
   "cell_type": "markdown",
   "id": "86486dd7-3c9a-4d79-b668-fb04e9bc34f0",
   "metadata": {},
   "source": [
    "10. Вводиться числа n i m. Створити масив випадкових значень n×m і обчислити мінімальне, максимальне значення, середнє та середньо квадратичне відхилення, округлене до 3 знаків після коми."
   ]
  },
  {
   "cell_type": "code",
   "execution_count": 3,
   "id": "723d495e-12d1-45c1-9b76-f0e9ee1fef52",
   "metadata": {},
   "outputs": [],
   "source": [
    "def calculate(array):\n",
    "    start_time = time.time()\n",
    "\n",
    "    min_value = round(np.min(array), 3)\n",
    "    max_value = round(np.max(array), 3)\n",
    "    avg = round(np.mean(array), 3)\n",
    "    std_deviation = round(np.std(array), 3)\n",
    "\n",
    "    return min_value, max_value, avg, std_deviation, time.time() - start_time\n",
    "\n",
    "def calculate_no_numpay(array):\n",
    "    start_time = time.time()\n",
    "    \n",
    "    flat_array = [value for sublist in array for value in sublist]\n",
    "\n",
    "    min_value = round(min(flat_array), 3)\n",
    "    max_value = round(max(flat_array), 3)\n",
    "    avg = round(sum(flat_array) / len(flat_array), 3)\n",
    "\n",
    "    mean_value = sum(flat_array) / len(flat_array)\n",
    "    std_deviation = round((sum((x - mean_value) ** 2 for x in flat_array) / len(flat_array)) ** 0.5, 3)\n",
    "\n",
    "    return min_value, max_value, avg, std_deviation, time.time() - start_time\n",
    "\n",
    "def task_10():\n",
    "    n, m = map(int, input(\"Enter n, m (space-separated): \").split())\n",
    "    \n",
    "    random_array = np.random.rand(n, m)\n",
    "    if n <= 10 and m <= 10:\n",
    "        print(random_array)\n",
    "\n",
    "    min_v, max_v, avg, std, time_numpy = calculate(random_array)\n",
    "    print(f\"Execution time with NumPy: {time_numpy:.6f}s\")\n",
    "    print(f\"min: {min_v}, max: {max_v}, average: {avg}, std deviation: {std}\")\n",
    "\n",
    "    min_v, max_v, avg, std, time_no_numpy = calculate_no_numpay(random_array)\n",
    "\n",
    "    print(f\"Execution time without NumPy: {time_no_numpy:.6f}s\")\n",
    "    print(f\"min: {min_v}, max: {max_v}, average: {avg}, std deviation: {std}\")"
   ]
  },
  {
   "cell_type": "code",
   "execution_count": 102,
   "id": "822a10ce-9b54-44b8-9c7a-730fded0a9b4",
   "metadata": {},
   "outputs": [
    {
     "name": "stdin",
     "output_type": "stream",
     "text": [
      "Enter n, m (space-separated):  4 5\n"
     ]
    },
    {
     "name": "stdout",
     "output_type": "stream",
     "text": [
      "[[0.10466667 0.40184422 0.82646469 0.24516337 0.79959296]\n",
      " [0.9299331  0.37135503 0.28581217 0.34855892 0.55701094]\n",
      " [0.33790979 0.13354559 0.97306975 0.77853137 0.2032729 ]\n",
      " [0.25126273 0.31419556 0.96993273 0.08247369 0.00977556]]\n",
      "Execution time with NumPy: 0.000171s\n",
      "min: 0.01, max: 0.973, average: 0.446, std deviation: 0.31\n",
      "Execution time without NumPy: 0.000053s\n",
      "min: 0.01, max: 0.973, average: 0.446, std deviation: 0.31\n"
     ]
    }
   ],
   "source": [
    "task_10()"
   ]
  },
  {
   "cell_type": "code",
   "execution_count": 11,
   "id": "215d0ff8-c8cc-4989-a9e6-c960445e3e48",
   "metadata": {},
   "outputs": [
    {
     "name": "stdin",
     "output_type": "stream",
     "text": [
      "Enter n, m (space-separated):  5000 7000\n"
     ]
    },
    {
     "name": "stdout",
     "output_type": "stream",
     "text": [
      "Execution time with NumPy: 0.300327s\n",
      "min: 0.0, max: 1.0, average: 0.5, std deviation: 0.289\n",
      "Execution time without NumPy: 13.940190s\n",
      "min: 0.0, max: 1.0, average: 0.5, std deviation: 0.289\n"
     ]
    }
   ],
   "source": [
    "task_10()"
   ]
  },
  {
   "cell_type": "markdown",
   "id": "23343631-7176-428f-9c47-1a42c7fc2c6f",
   "metadata": {},
   "source": [
    "12. Створити масив одиниць розміром n×n та створити в ньому «рамку», що утворюється з 0."
   ]
  },
  {
   "cell_type": "code",
   "execution_count": 26,
   "id": "f03aa263-3e71-4452-ba77-76dfacbc48e0",
   "metadata": {},
   "outputs": [],
   "source": [
    "def create_ones_matrix_with_zeros_frame(n):\n",
    "    start_time = time.time()\n",
    "\n",
    "    matrix = np.ones((n, n), dtype=int)\n",
    "    \n",
    "    matrix[0, :] = 0\n",
    "    matrix[:, 0] = 0\n",
    "    matrix[-1, :] = 0\n",
    "    matrix[:, -1] = 0\n",
    "\n",
    "    return matrix, time.time() - start_time\n",
    "\n",
    "def create_ones_matrix_with_zeros_frame_no_numpay(n):\n",
    "    start_time = time.time()\n",
    "    \n",
    "    matrix = [[1 for _ in range(n)] for _ in range(n)]\n",
    "\n",
    "    for i in range(n):\n",
    "        matrix[0][i] = 0\n",
    "        matrix[i][0] = 0\n",
    "        matrix[-1][i] = 0\n",
    "        matrix[i][-1] = 0 \n",
    "\n",
    "    return matrix, time.time() - start_time\n",
    "\n",
    "def task_12():\n",
    "    n = int(input(\"Enter n: \"))\n",
    "\n",
    "    array, time_numpy = create_ones_matrix_with_zeros_frame(n)\n",
    "    print(f\"Execution time with NumPy: {time_numpy:.6f}s\")\n",
    "    if n <= 10:\n",
    "        print(array)\n",
    "\n",
    "    array, time_no_numpy = create_ones_matrix_with_zeros_frame_no_numpay(n)\n",
    "\n",
    "    print(f\"Execution time without NumPy: {time_no_numpy:.6f}s\")\n",
    "    if n <= 10:\n",
    "        print(array)"
   ]
  },
  {
   "cell_type": "code",
   "execution_count": 24,
   "id": "66906b06-ad75-47e6-805b-84a66db06ca9",
   "metadata": {},
   "outputs": [
    {
     "name": "stdin",
     "output_type": "stream",
     "text": [
      "Enter n:  4\n"
     ]
    },
    {
     "name": "stdout",
     "output_type": "stream",
     "text": [
      "Execution time with NumPy: 0.000048s\n",
      "[[0 0 0 0]\n",
      " [0 1 1 0]\n",
      " [0 1 1 0]\n",
      " [0 0 0 0]]\n",
      "Execution time without NumPy: 0.000009s\n",
      "[[0, 0, 0, 0], [0, 1, 1, 0], [0, 1, 1, 0], [0, 0, 0, 0]]\n"
     ]
    }
   ],
   "source": [
    "task_12()"
   ]
  },
  {
   "cell_type": "code",
   "execution_count": 28,
   "id": "608bd478-69c4-4ee7-9806-a5ed889d05b2",
   "metadata": {},
   "outputs": [
    {
     "name": "stdin",
     "output_type": "stream",
     "text": [
      "Enter n:  10000\n"
     ]
    },
    {
     "name": "stdout",
     "output_type": "stream",
     "text": [
      "Execution time with NumPy: 0.252616s\n",
      "Execution time without NumPy: 3.665191s\n"
     ]
    }
   ],
   "source": [
    "task_12()"
   ]
  },
  {
   "cell_type": "markdown",
   "id": "f724ae51-9b2f-46a6-9e28-d9df93d1a712",
   "metadata": {},
   "source": [
    "15. Заповнити парні стовпчикі матриці розміром n×n одиницями, а непарні – нулями."
   ]
  },
  {
   "cell_type": "code",
   "execution_count": 31,
   "id": "8e9dcf3e-377f-4222-9fc9-761ee491a01e",
   "metadata": {},
   "outputs": [],
   "source": [
    "def create_matrix_with_even_columns_ones_odd_zeros(n):\n",
    "    start_time = time.time()\n",
    "\n",
    "    matrix = np.zeros((n, n), dtype=int)\n",
    "    matrix[:, 1::2] = 1\n",
    "\n",
    "    return matrix, time.time() - start_time\n",
    "\n",
    "def create_matrix_with_even_columns_ones_odd_zeros_no_numpay(n):\n",
    "    start_time = time.time()\n",
    "    \n",
    "    matrix = [[0] * n for _ in range(n)]\n",
    "\n",
    "    for i in range(n):\n",
    "        for j in range(1, n, 2):\n",
    "            matrix[i][j] = 1\n",
    "\n",
    "\n",
    "    return matrix, time.time() - start_time\n",
    "\n",
    "def task_15():\n",
    "    n = int(input(\"Enter n: \"))\n",
    "\n",
    "    array, time_numpy = create_matrix_with_even_columns_ones_odd_zeros(n)\n",
    "    print(f\"Execution time with NumPy: {time_numpy:.6f}s\")\n",
    "    if n <= 10:\n",
    "        print(array)\n",
    "\n",
    "    array, time_no_numpy = create_matrix_with_even_columns_ones_odd_zeros_no_numpay(n)\n",
    "\n",
    "    print(f\"Execution time without NumPy: {time_no_numpy:.6f}s\")\n",
    "    if n <= 10:\n",
    "        print(array)"
   ]
  },
  {
   "cell_type": "code",
   "execution_count": 33,
   "id": "bd7d19a5-0803-4bbc-8625-589f413cfbd3",
   "metadata": {},
   "outputs": [
    {
     "name": "stdin",
     "output_type": "stream",
     "text": [
      "Enter n:  5\n"
     ]
    },
    {
     "name": "stdout",
     "output_type": "stream",
     "text": [
      "Execution time with NumPy: 0.000019s\n",
      "[[0 1 0 1 0]\n",
      " [0 1 0 1 0]\n",
      " [0 1 0 1 0]\n",
      " [0 1 0 1 0]\n",
      " [0 1 0 1 0]]\n",
      "Execution time without NumPy: 0.000008s\n",
      "[[0, 1, 0, 1, 0], [0, 1, 0, 1, 0], [0, 1, 0, 1, 0], [0, 1, 0, 1, 0], [0, 1, 0, 1, 0]]\n"
     ]
    }
   ],
   "source": [
    "task_15()"
   ]
  },
  {
   "cell_type": "code",
   "execution_count": 35,
   "id": "9d482abc-76cd-4b09-90b8-4a8886ff756a",
   "metadata": {},
   "outputs": [
    {
     "name": "stdin",
     "output_type": "stream",
     "text": [
      "Enter n:  10000\n"
     ]
    },
    {
     "name": "stdout",
     "output_type": "stream",
     "text": [
      "Execution time with NumPy: 0.422667s\n",
      "Execution time without NumPy: 2.676821s\n"
     ]
    }
   ],
   "source": [
    "task_15()"
   ]
  },
  {
   "cell_type": "markdown",
   "id": "aab9cbb1-2036-432e-aafc-d37d9ac31902",
   "metadata": {},
   "source": [
    "17. Заповнити вектор значеннями від 0 до n. Замінити знаки для всіх значень, що менші за n/2 та більші за 3n/4 на протилежні."
   ]
  },
  {
   "cell_type": "code",
   "execution_count": 7,
   "id": "f76215ec-462e-4bab-9a91-05b9b62bc443",
   "metadata": {},
   "outputs": [],
   "source": [
    "def calculate_vector(n):\n",
    "    start_time = time.time()\n",
    "\n",
    "    vector = np.arange(n)\n",
    "\n",
    "    vector[(vector < n/2) | (vector > 3*n/4)] *= -1\n",
    "\n",
    "    return vector, time.time() - start_time\n",
    "\n",
    "def calculate_vector_no_numpay(n):\n",
    "    start_time = time.time()\n",
    "    \n",
    "    vector = [i if n/2 <= i <= 3*n/4 else -i for i in range(n)]\n",
    "\n",
    "    return vector, time.time() - start_time\n",
    "\n",
    "def task_17():\n",
    "    n = int(input(\"Enter n: \"))\n",
    "\n",
    "    vector, time_numpy = calculate_vector(n)\n",
    "    print(f\"Execution time with NumPy: {time_numpy:.6f}s\")\n",
    "    if n <= 10:\n",
    "        print(vector)\n",
    "\n",
    "    vector, time_no_numpy = calculate_vector_no_numpay(n)\n",
    "\n",
    "    print(f\"Execution time without NumPy: {time_no_numpy:.6f}s\")\n",
    "    if n <= 10:\n",
    "        print(vector)"
   ]
  },
  {
   "cell_type": "code",
   "execution_count": 40,
   "id": "0fca67d8-0256-47a4-acaa-8c77d5ace167",
   "metadata": {},
   "outputs": [
    {
     "name": "stdin",
     "output_type": "stream",
     "text": [
      "Enter n:  10\n"
     ]
    },
    {
     "name": "stdout",
     "output_type": "stream",
     "text": [
      "Execution time with NumPy: 0.000121s\n",
      "[ 0 -1 -2 -3 -4  5  6  7 -8 -9]\n",
      "Execution time without NumPy: 0.000007s\n",
      "[0, -1, -2, -3, -4, 5, 6, 7, -8, -9]\n"
     ]
    }
   ],
   "source": [
    "task_17()"
   ]
  },
  {
   "cell_type": "code",
   "execution_count": 9,
   "id": "1ef186ce-9b8e-4f91-b78a-90f9a6c7b5d6",
   "metadata": {},
   "outputs": [
    {
     "name": "stdin",
     "output_type": "stream",
     "text": [
      "Enter n:  10000000\n"
     ]
    },
    {
     "name": "stdout",
     "output_type": "stream",
     "text": [
      "Execution time with NumPy: 0.114012s\n",
      "Execution time without NumPy: 1.483384s\n"
     ]
    }
   ],
   "source": [
    "task_17()"
   ]
  },
  {
   "cell_type": "markdown",
   "id": "94e98a66-07d8-46da-b880-c8c8f05761cd",
   "metadata": {},
   "source": [
    "18. Згенерувати вектор з n випадкових чисел в діапазоні від 0 до 99. Визначити кількість унікальних чисел в послідовності."
   ]
  },
  {
   "cell_type": "code",
   "execution_count": 24,
   "id": "ac26902e-70e7-4709-8d5c-0fb37d784046",
   "metadata": {},
   "outputs": [],
   "source": [
    "def get_unique_numbers(n):\n",
    "    start_time = time.time()\n",
    "\n",
    "    vector = np.random.randint(0, 100, n)\n",
    "    unique_numbers = np.unique(vector).size\n",
    "\n",
    "    end_time = time.time()\n",
    "\n",
    "    return vector, unique_numbers, end_time - start_time\n",
    "\n",
    "def get_unique_numbers_no_numpy(n):\n",
    "    start_time = time.time()\n",
    "\n",
    "    vector = []\n",
    "    for _ in range(n):\n",
    "        vector.append(random.randint(0, 99))\n",
    "    unique_numbers = len(set(vector))\n",
    "\n",
    "    end_time = time.time()\n",
    "\n",
    "    return vector, unique_numbers, end_time - start_time\n",
    "\n",
    "def task_18():\n",
    "    n = int(input(\"Enter n: \"))\n",
    "\n",
    "    vector, cu, time_numpy = get_unique_numbers(n)\n",
    "    print(f\"Execution time with NumPy: {time_numpy:.6f}s\")\n",
    "    if n <= 10:\n",
    "        print(vector)\n",
    "    print(cu)\n",
    "\n",
    "    vector, cu, time_no_numpy = get_unique_numbers_no_numpy(n)\n",
    "\n",
    "    print(f\"Execution time without NumPy: {time_no_numpy:.6f}s\")\n",
    "    if n <= 10:\n",
    "        print(vector)\n",
    "    print(cu)"
   ]
  },
  {
   "cell_type": "code",
   "execution_count": 32,
   "id": "7ec8f9db-2197-40e0-babf-1c1ba70fb38b",
   "metadata": {},
   "outputs": [
    {
     "name": "stdin",
     "output_type": "stream",
     "text": [
      "Enter n:  10\n"
     ]
    },
    {
     "name": "stdout",
     "output_type": "stream",
     "text": [
      "Execution time with NumPy: 0.000115s\n",
      "[85 45 26 24 12 67 62 67 32  5]\n",
      "9\n",
      "Execution time without NumPy: 0.000013s\n",
      "[17, 85, 67, 40, 67, 16, 78, 84, 47, 40]\n",
      "8\n"
     ]
    }
   ],
   "source": [
    "task_18()"
   ]
  },
  {
   "cell_type": "code",
   "execution_count": 28,
   "id": "1e21151a-1266-454a-a3df-1da86fc8638b",
   "metadata": {},
   "outputs": [
    {
     "name": "stdin",
     "output_type": "stream",
     "text": [
      "Enter n:  100000\n"
     ]
    },
    {
     "name": "stdout",
     "output_type": "stream",
     "text": [
      "Execution time with NumPy: 0.004856s\n",
      "100\n",
      "Execution time without NumPy: 0.048047s\n",
      "100\n"
     ]
    }
   ],
   "source": [
    "task_18()"
   ]
  },
  {
   "cell_type": "code",
   "execution_count": null,
   "id": "95662032-06c8-4883-a8ce-bf5a9e3603f8",
   "metadata": {},
   "outputs": [],
   "source": []
  }
 ],
 "metadata": {
  "kernelspec": {
   "display_name": "anaconda-panel-2023.05-py310",
   "language": "python",
   "name": "conda-env-anaconda-panel-2023.05-py310-py"
  },
  "language_info": {
   "codemirror_mode": {
    "name": "ipython",
    "version": 3
   },
   "file_extension": ".py",
   "mimetype": "text/x-python",
   "name": "python",
   "nbconvert_exporter": "python",
   "pygments_lexer": "ipython3",
   "version": "3.11.5"
  }
 },
 "nbformat": 4,
 "nbformat_minor": 5
}
