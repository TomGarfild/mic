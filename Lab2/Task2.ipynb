{
 "cells": [
  {
   "cell_type": "markdown",
   "id": "46ca67db-42b8-41e7-8f37-53ba3ec8d4aa",
   "metadata": {},
   "source": [
    "## Variant 6\n",
    "$$\n",
    "\\begin{cases}\n",
    "    x_1 + 5x_2 + 3x_3 -4x_4 = 20 \\\\\n",
    "    3x_1 + x_2 - 2x_3 = 9 \\\\\n",
    "    5x_1 - 7x_2 + 10x_4 = -9 \\\\\n",
    "    3x_2 - 5x_3 = 1 \\\\\n",
    "\\end{cases}\n",
    "$$"
   ]
  },
  {
   "cell_type": "code",
   "execution_count": 14,
   "id": "1fe1b501-ddc7-4ac4-a9a2-dab405c9e8e9",
   "metadata": {},
   "outputs": [
    {
     "name": "stdout",
     "output_type": "stream",
     "text": [
      "Check using Cramer method: [-2.28571429 12.71428571 -1.57142857  9.14285714]\n",
      "Check with matrix multiplication: [-2.28571429 12.71428571 -1.57142857  9.14285714]\n",
      "Chack with inverted matrix: [-2.28571429 12.71428571 -1.57142857  9.14285714]\n",
      "Check with numpy.linalg.solve(): [-2.28571429 12.71428571 -1.57142857  9.14285714]\n",
      "Compare all solutions: True True True\n"
     ]
    }
   ],
   "source": [
    "import numpy as np\n",
    "\n",
    "def cramer_method(A, b):\n",
    "    det_A = np.linalg.det(A)\n",
    "    \n",
    "    det_A_x = np.linalg.det(np.insert(np.delete(A, 0, 1), 0, b, axis=1))\n",
    "    det_A_y = np.linalg.det(np.insert(np.delete(A, 1, 1), 1, b, axis=1))\n",
    "    det_A_z = np.linalg.det(np.insert(np.delete(A, 2, 1), 2, b, axis=1))\n",
    "    det_A_k = np.linalg.det(np.insert(np.delete(A, 3, 1), 3, b, axis=1))\n",
    "\n",
    "    x = det_A_x / det_A\n",
    "    y = det_A_y / det_A\n",
    "    z = det_A_z / det_A\n",
    "    k = det_A_k / det_A\n",
    "\n",
    "    return np.array([x, y, z, k])\n",
    "\n",
    "A = np.array([[1, 5, 3, -4], [3, 1, -2, 0], [5, -7, 0, 10], [3 , 0, -5, 0]])\n",
    "b = np.array([20, 9, -9, 1])\n",
    "\n",
    "solution_cramer = cramer_method(A, b)\n",
    "\n",
    "print(\"Check using Cramer method:\", solution_cramer)\n",
    "\n",
    "solution_matrix_multiplication = np.linalg.solve(A, b)\n",
    "\n",
    "print(\"Check with matrix multiplication:\", solution_matrix_multiplication)\n",
    "\n",
    "inverse_A = np.linalg.inv(A)\n",
    "\n",
    "solution_inverse_matrix = np.dot(inverse_A, b)\n",
    "\n",
    "print(\"Chack with inverted matrix:\", solution_inverse_matrix)\n",
    "\n",
    "solution_linalg_solve = np.linalg.solve(A, b)\n",
    "\n",
    "print(\"Check with numpy.linalg.solve():\", solution_linalg_solve)\n",
    "\n",
    "print(\"Compare all solutions:\", np.allclose(solution_cramer, solution_matrix_multiplication), np.allclose(solution_cramer, solution_inverse_matrix), np.allclose(solution_cramer, solution_linalg_solve))"
   ]
  },
  {
   "cell_type": "code",
   "execution_count": null,
   "id": "89c98006-8640-44e7-b928-ef4f95a11433",
   "metadata": {},
   "outputs": [],
   "source": []
  }
 ],
 "metadata": {
  "kernelspec": {
   "display_name": "anaconda-panel-2023.05-py310",
   "language": "python",
   "name": "conda-env-anaconda-panel-2023.05-py310-py"
  },
  "language_info": {
   "codemirror_mode": {
    "name": "ipython",
    "version": 3
   },
   "file_extension": ".py",
   "mimetype": "text/x-python",
   "name": "python",
   "nbconvert_exporter": "python",
   "pygments_lexer": "ipython3",
   "version": "3.11.5"
  }
 },
 "nbformat": 4,
 "nbformat_minor": 5
}
