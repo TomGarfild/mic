{
 "cells": [
  {
   "cell_type": "markdown",
   "id": "3ead3224-c022-4f22-838c-528b2af268eb",
   "metadata": {},
   "source": [
    "## Variant 6\n",
    "$$\n",
    "  (A-B^2)\\cdot(2A + B)\n",
    "$$\n",
    "$$\n",
    "    A = \\begin{pmatrix}\n",
    "      5 & 2 & 0 \\\\\n",
    "      10 & 4 & 1 \\\\\n",
    "      7 & 3 & 2 \\\\\n",
    "    \\end{pmatrix}\n",
    "$$\n",
    "$$\n",
    "    B = \\begin{pmatrix}\n",
    "      3 & 6 & -1 \\\\\n",
    "      -1 & -2 & 0 \\\\\n",
    "      2 & 1 & 3 \\\\\n",
    "    \\end{pmatrix}\n",
    "$$"
   ]
  },
  {
   "cell_type": "code",
   "execution_count": 40,
   "id": "7602422c-3dc1-4159-9d82-3b68acb915b7",
   "metadata": {},
   "outputs": [
    {
     "name": "stdout",
     "output_type": "stream",
     "text": [
      "Execution time with NumPy: 0.000048s\n",
      "[[  27   50   10]\n",
      " [ 257  146    1]\n",
      " [-180  -67    3]]\n",
      "Execution time without NumPy: 0.000051s\n",
      "[[27, 50, 10], [257, 146, 1], [-180, -67, 3]]\n"
     ]
    }
   ],
   "source": [
    "import numpy as np\n",
    "import time\n",
    "\n",
    "def matrix_expression(A, B):\n",
    "    start_time = time.time()\n",
    "\n",
    "    C = np.dot((A - np.dot(B, B)), (2 * A + B))\n",
    "\n",
    "    return C, time.time() - start_time\n",
    "\n",
    "def matrix_expression_no_numpy(A, B):\n",
    "    start_time = time.time()\n",
    "\n",
    "    n = len(A[0])\n",
    "    \n",
    "    B_S = [[0 for _ in range(n)] for _ in range(n)]\n",
    "\n",
    "    for i in range(n):\n",
    "        for j in range(n):\n",
    "            for k in range(n):\n",
    "                B_S[i][j] += B[i][k] * B[k][j]\n",
    "    \n",
    "    F = [[0 for _ in range(n)] for _ in range(n)]\n",
    "\n",
    "    for i in range(n):\n",
    "        for j in range(n):\n",
    "                F[i][j] = A[i][j] - B_S[i][j]\n",
    "    \n",
    "    S = [[0 for _ in range(n)] for _ in range(n)]\n",
    "\n",
    "    for i in range(n):\n",
    "        for j in range(n):\n",
    "                S[i][j] = 2*A[i][j] + B[i][j]\n",
    "    \n",
    "    C = [[0 for _ in range(n)] for _ in range(n)]\n",
    "\n",
    "    for i in range(n):\n",
    "        for j in range(n):\n",
    "            for k in range(n):\n",
    "                C[i][j] += F[i][k] * S[k][j]\n",
    "    \n",
    "    return C, time.time() - start_time\n",
    "\n",
    "A = np.array([[5, 2, 0], [10, 4, 1], [3, 3, 2]])\n",
    "B = np.array([[3, 6, -1], [-1, -2, 0], [2, 1, 1]])\n",
    "\n",
    "C, time_numpy = matrix_expression(A, B)\n",
    "\n",
    "print(f\"Execution time with NumPy: {time_numpy:.6f}s\")\n",
    "print(C)\n",
    "\n",
    "C, time_no_numpy = matrix_expression_no_numpy(A, B)\n",
    "\n",
    "print(f\"Execution time without NumPy: {time_no_numpy:.6f}s\")\n",
    "print(C)"
   ]
  },
  {
   "cell_type": "code",
   "execution_count": null,
   "id": "9c9c0eed-a235-4af6-afb4-e00653758079",
   "metadata": {},
   "outputs": [],
   "source": []
  }
 ],
 "metadata": {
  "kernelspec": {
   "display_name": "anaconda-panel-2023.05-py310",
   "language": "python",
   "name": "conda-env-anaconda-panel-2023.05-py310-py"
  },
  "language_info": {
   "codemirror_mode": {
    "name": "ipython",
    "version": 3
   },
   "file_extension": ".py",
   "mimetype": "text/x-python",
   "name": "python",
   "nbconvert_exporter": "python",
   "pygments_lexer": "ipython3",
   "version": "3.11.5"
  }
 },
 "nbformat": 4,
 "nbformat_minor": 5
}
